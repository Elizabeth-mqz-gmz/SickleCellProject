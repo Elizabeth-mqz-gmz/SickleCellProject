{
 "cells": [
  {
   "cell_type": "markdown",
   "metadata": {},
   "source": [
    "# <span style=\"color:#DBD318\">Carlos Michel Mourra Díaz</span>\n",
    "# <span style=\"color:#DBD318\">Elizabeth Márquez Gómez</span>\n",
    "# <span style=\"color:#DBD318\">Salvador González Juárez</span>"
   ]
  },
  {
   "cell_type": "markdown",
   "metadata": {},
   "source": [
    "# <h1 style=\"color:#50AEDB\">Project: Diagnosing Sickle Cell Anemia</h1>"
   ]
  },
  {
   "cell_type": "markdown",
   "metadata": {},
   "source": [
    "# <h2 style=\"color:#8F091A\">Ejercicios</h2>\n",
    "+ <a href=\"#Ejercicio_1\" style=\"color:#E0AC3D\">Ejercicio 1</a>\n",
    "+ <a href=\"#Ejercicio_2\" style=\"color:#E0AC3D\">Ejercicio 2</a>\n",
    "+ <a href=\"#Ejercicio_3\" style=\"color:#E0AC3D\">Ejercicio 3</a>\n",
    "+ <a href=\"#Ejercicio_4\" style=\"color:#E0AC3D\">Ejercicio 4</a>"
   ]
  },
  {
   "cell_type": "markdown",
   "metadata": {},
   "source": [
    "<h2 style=\"color:#8F091A\">1. Retrieving DNA and protein sequences with Bio.Entrez</h2>\n",
    "<h3 style=\"color:#8F091A\">1.1 Search identifiers on NCBI</h3>\n"
   ]
  },
  {
   "cell_type": "code",
   "execution_count": 115,
   "metadata": {},
   "outputs": [
    {
     "name": "stdout",
     "output_type": "stream",
     "text": [
      "['1868032479', '1515564438', '179408', '224959855', '2168937', '183859', '183844']\n"
     ]
    }
   ],
   "source": [
    "from Bio import Entrez\n",
    "\n",
    "Entrez.email = 'elimqzg@lcg.unam.mx'\n",
    "\n",
    "#Obtener los identificadores de la secuencia\n",
    "handle = Entrez.esearch(db='nucleotide', term='sickle AND homo sapiens AND globin NOT chromosome') \n",
    "record = Entrez.read(handle)\n",
    "print(record['IdList'])"
   ]
  },
  {
   "cell_type": "markdown",
   "metadata": {},
   "source": [
    "<h3 style=\"color:#8F091A\">1.2 Retrieve sequences using identifiers</h3>"
   ]
  },
  {
   "cell_type": "code",
   "execution_count": 116,
   "metadata": {},
   "outputs": [
    {
     "name": "stdout",
     "output_type": "stream",
     "text": [
      "Homo sapiens A-gamma globin (HBG1) gene, exon 1 and partial cds\n",
      "MN609913.1\n",
      "\n",
      "Homo sapiens voucher ATGLAB 2018103 hemoglobin beta subunit (HBB) gene, exon 3 and partial cds\n",
      "MH580289.1\n",
      "\n",
      "Human sickle cell beta-globin mRNA, complete cds\n",
      "M25079.1\n",
      "\n",
      "Homo sapiens A-gamma globin (HBG1) gene, promoter region\n",
      "FJ766333.1\n",
      "\n",
      "Part of DNA encoding beta-globin gene\n",
      "E00658.1\n",
      "\n",
      "Human hemoglobin DNA with a deletion causing Indian delta-beta thalassemia\n",
      "M33706.1\n",
      "\n",
      "Human hemoglobin-related sequence across the breakpoint for Indian delta-beta thalassemia\n",
      "M37467.1\n",
      "\n"
     ]
    }
   ],
   "source": [
    "from xml.etree import ElementTree as ET\n",
    "\n",
    "for identifier in record['IdList']:\n",
    "    \n",
    "    handle = Entrez.efetch(db='nucleotide', id= identifier, rettype='fasta', retmode='xml')\n",
    "    resultXML = handle.read().decode()\n",
    "    #print(resultXML)\n",
    "    \n",
    "    tree = ET.ElementTree(ET.fromstring(resultXML))\n",
    "    root = tree.getroot()\n",
    "    print((root.find('.//TSeq_defline')).text)\n",
    "    print((root.find('.//TSeq_accver')).text, end='\\n\\n')\n",
    "    "
   ]
  },
  {
   "cell_type": "markdown",
   "metadata": {},
   "source": [
    "<h3 style=\"color:#8F091A\">1.3 Retrieve a single GenBank entry</h3>"
   ]
  },
  {
   "cell_type": "code",
   "execution_count": 117,
   "metadata": {},
   "outputs": [
    {
     "name": "stdout",
     "output_type": "stream",
     "text": [
      "LOCUS       HUMBETGLA                468 bp    mRNA    linear   PRI 27-APR-1993\n",
      "DEFINITION  Human sickle cell beta-globin mRNA, complete cds.\n",
      "ACCESSION   M25079\n",
      "VERSION     M25079.1\n",
      "KEYWORDS    .\n",
      "SOURCE      Homo sapiens (human)\n",
      "  ORGANISM  Homo sapiens\n",
      "            Eukaryota; Metazoa; Chordata; Craniata; Vertebrata; Euteleostomi;\n",
      "            Mammalia; Eutheria; Euarchontoglires; Primates; Haplorrhini;\n",
      "            Catarrhini; Hominidae; Homo.\n",
      "REFERENCE   1  (bases 1 to 468)\n",
      "  AUTHORS   Marotta,C.A., Forget,B.G., Cohen-Solal,M. and Weissman,S.M.\n",
      "  TITLE     Nucleotide sequence analysis of coding and noncoding regions of\n",
      "            human beta-globin mRNA\n",
      "  JOURNAL   Prog Nucleic Acid Res Mol Biol 19, 165-175 (1976)\n",
      "   PUBMED   1019344\n",
      "COMMENT     Original source text: Human sickle cell, cDNA to mRNA.\n",
      "FEATURES             Location/Qualifiers\n",
      "     source          1..468\n",
      "                     /organism=\"Homo sapiens\"\n",
      "                     /mol_type=\"mRNA\"\n",
      "                     /db_xref=\"taxon:9606\"\n",
      "                     /cell_type=\"sickle cell\"\n",
      "     CDS             1..444\n",
      "                     /experiment=\"experimental evidence, no additional details\n",
      "                     recorded\"\n",
      "                     /codon_start=1\n",
      "                     /product=\"beta-globin\"\n",
      "                     /protein_id=\"AAA35597.1\"\n",
      "                     /translation=\"MVHXTPVEKSAVTALWGKVNVDEXGGEALGXLLVVYPWTQRFXX\n",
      "                     SFGDLXTPXAVMGNPKVKAHGKKVLGAFSDGLAHLDNLKGTFATLSELHCDKLHVDPE\n",
      "                     NFRLLGNVXVCVLAHHFGKEFTPPVXAAYQKVVAGVANALAHKYH\"\n",
      "ORIGIN      \n",
      "        1 atggtncayy tnacnccngt ggagaagtcy gcygtnacng cnctntgggg yaaggtnaay\n",
      "       61 gtggatgaag yyggyggyga ggccctgggc agnctgctng tggtctaccc ttggacccag\n",
      "      121 aggttcttng antcnttygg ggatctgnnn acnccngang cagttatggg caaccctaag\n",
      "      181 gtgaaggctc atggcaagaa agtgctcggt gcctttagtg atggcctggc tcacctggac\n",
      "      241 aacctcaagg gcacctttgc cacactgagt gagctgcact gtgacaagct ncaygtggat\n",
      "      301 cctgagaact tcaggctnct nggcaacgtg ytngtctgyg tgctggccca tcactttggc\n",
      "      361 aaagaattca ccccaccagt gcangcngcc tatcagaaag tggtngctgg tgtngctaat\n",
      "      421 gccctggccc acaagtatca ctaagctngc yttyttgytg tccaattt\n",
      "//\n",
      "\n",
      "\n"
     ]
    }
   ],
   "source": [
    "handle = Entrez.efetch(db='nucleotide', id='M25079.1', rettype='gb', retmode='text')\n",
    "resultText = handle.read()\n",
    "print(resultText)"
   ]
  },
  {
   "cell_type": "markdown",
   "metadata": {},
   "source": [
    "<h3 style=\"color:#8F091A\">1.4 Retrieve a single GenBank entry</h3>"
   ]
  },
  {
   "cell_type": "code",
   "execution_count": 118,
   "metadata": {},
   "outputs": [],
   "source": [
    "with open('./sickle.gb','w') as fileHandler:\n",
    "    fileHandler.write(resultText)"
   ]
  },
  {
   "cell_type": "code",
   "execution_count": 119,
   "metadata": {},
   "outputs": [
    {
     "name": "stdout",
     "output_type": "stream",
     "text": [
      "LOCUS       HUMBETGLA                468 bp    mRNA    linear   PRI 27-APR-1993\n",
      "DEFINITION  Human sickle cell beta-globin mRNA, complete cds.\n",
      "ACCESSION   M25079\n",
      "VERSION     M25079.1\n",
      "KEYWORDS    .\n",
      "SOURCE      Homo sapiens (human)\n",
      "  ORGANISM  Homo sapiens\n",
      "            Eukaryota; Metazoa; Chordata; Craniata; Vertebrata; Euteleostomi;\n",
      "            Mammalia; Eutheria; Euarchontoglires; Primates; Haplorrhini;\n",
      "            Catarrhini; Hominidae; Homo.\n",
      "REFERENCE   1  (bases 1 to 468)\n",
      "  AUTHORS   Marotta,C.A., Forget,B.G., Cohen-Solal,M. and Weissman,S.M.\n",
      "  TITLE     Nucleotide sequence analysis of coding and noncoding regions of\n",
      "            human beta-globin mRNA\n",
      "  JOURNAL   Prog Nucleic Acid Res Mol Biol 19, 165-175 (1976)\n",
      "   PUBMED   1019344\n",
      "COMMENT     Original source text: Human sickle cell, cDNA to mRNA.\n",
      "FEATURES             Location/Qualifiers\n",
      "     source          1..468\n",
      "                     /organism=\"Homo sapiens\"\n",
      "                     /mol_type=\"mRNA\"\n",
      "                     /db_xref=\"taxon:9606\"\n",
      "                     /cell_type=\"sickle cell\"\n",
      "     CDS             1..444\n",
      "                     /experiment=\"experimental evidence, no additional details\n",
      "                     recorded\"\n",
      "                     /codon_start=1\n",
      "                     /product=\"beta-globin\"\n",
      "                     /protein_id=\"AAA35597.1\"\n",
      "                     /translation=\"MVHXTPVEKSAVTALWGKVNVDEXGGEALGXLLVVYPWTQRFXX\n",
      "                     SFGDLXTPXAVMGNPKVKAHGKKVLGAFSDGLAHLDNLKGTFATLSELHCDKLHVDPE\n",
      "                     NFRLLGNVXVCVLAHHFGKEFTPPVXAAYQKVVAGVANALAHKYH\"\n",
      "ORIGIN      \n",
      "        1 atggtncayy tnacnccngt ggagaagtcy gcygtnacng cnctntgggg yaaggtnaay\n",
      "       61 gtggatgaag yyggyggyga ggccctgggc agnctgctng tggtctaccc ttggacccag\n",
      "      121 aggttcttng antcnttygg ggatctgnnn acnccngang cagttatggg caaccctaag\n",
      "      181 gtgaaggctc atggcaagaa agtgctcggt gcctttagtg atggcctggc tcacctggac\n",
      "      241 aacctcaagg gcacctttgc cacactgagt gagctgcact gtgacaagct ncaygtggat\n",
      "      301 cctgagaact tcaggctnct nggcaacgtg ytngtctgyg tgctggccca tcactttggc\n",
      "      361 aaagaattca ccccaccagt gcangcngcc tatcagaaag tggtngctgg tgtngctaat\n",
      "      421 gccctggccc acaagtatca ctaagctngc yttyttgytg tccaattt\n",
      "//\n",
      "\n"
     ]
    }
   ],
   "source": [
    "%%bash\n",
    "less ./sickle.gb"
   ]
  },
  {
   "cell_type": "markdown",
   "metadata": {},
   "source": [
    "<h3 style=\"color:#8F091A\">1.5 Retrieve and write multiple GenBank entries</h3>"
   ]
  },
  {
   "cell_type": "code",
   "execution_count": 120,
   "metadata": {},
   "outputs": [],
   "source": [
    "def GetRecord(resultados, fileFormat):\n",
    "    '''\n",
    "    Esta funcion extrae las secuencias Fasta correspondientes a cada uno de los resultados de \n",
    "    una busqueda realizada.\n",
    "    :param resultados: Bio.Entrez.Parser.DictionaryElement, conjunto de resultados para una busqueda usando\n",
    "                       Entrez.\n",
    "    :return str, secuencia Fasta del objeto encontrado en la busqueda.\n",
    "    '''\n",
    "    \n",
    "    # Obtiene los valores de la busqueda\n",
    "    num_resultados = int(resultados['Count'])\n",
    "    webenv = resultados['WebEnv']\n",
    "    query_key = resultados['QueryKey']\n",
    "    lote = num_resultados\n",
    "\n",
    "    # Comienzo a extraer los resultados por lotes\n",
    "    for inicio in range(0, num_resultados, lote):\n",
    "        fin = min(num_resultados, inicio + lote)\n",
    "        \n",
    "        # Tres intentos para extraer los resultados\n",
    "        intento = 1\n",
    "        while intento <= 3:\n",
    "            try:\n",
    "                                \n",
    "                # Obtengo los resultados en formato Fasta\n",
    "                fetch_handler= Entrez.efetch(db='nucleotide', rettype=fileFormat, retmode='text',\n",
    "                                             retstart=inicio, retmax=lote,\n",
    "                                             webenv=webenv, query_key=query_key)\n",
    "                break\n",
    "            \n",
    "            # En caso de ocurrir un error imprimo que fue lo que ocurrio\n",
    "            except HTTPError as err:\n",
    "                \n",
    "                # Si el error es del servidor, espero un momento y vuelvo a intentarlo\n",
    "                if 500 <= err.code <= 599:\n",
    "                    print('Error del servidor: {}'.format(err))\n",
    "                    print('Intento {} de 3'.format(intento))\n",
    "                    intento += 1\n",
    "                    time.sleep(15)\n",
    "                \n",
    "                # Si el error no es del servidor, interrumpe el programa\n",
    "                else:\n",
    "                    raise\n",
    "\n",
    "        # Guardo el resultado y lo retorno\n",
    "        record = fetch_handler.read()\n",
    "        fetch_handler.close()\n",
    "        \n",
    "        return record\n",
    "    \n",
    "# Inicializa un archivo output para depositar las secuencias fasta  \n",
    "\n",
    "out_handler = open('./entries.gb', 'w+')\n",
    "out_handler.write('')\n",
    "out_handler.close()   \n",
    "\n",
    "searchHandler = Entrez.esearch(db='nucleotide',term='((beta-globin[Keyword]) AND Homo sapiens[Organism]) AND complete cds[TI] ', usehistory='y')\n",
    "searchResults = Entrez.read(searchHandler)\n",
    "\n",
    "    \n",
    "with open('./entries.gb','a') as docEntriesGb:\n",
    "    docEntriesGb.write(GetRecord(searchResults,'gb'))\n",
    "    "
   ]
  },
  {
   "cell_type": "code",
   "execution_count": 121,
   "metadata": {},
   "outputs": [
    {
     "name": "stdout",
     "output_type": "stream",
     "text": [
      "LOCUS       AH001475                4355 bp    DNA     linear   PRI 10-JUN-2016\n",
      "DEFINITION  Homo sapiens beta-globin gene, complete cds.\n",
      "ACCESSION   AH001475 M34058 M34059\n",
      "VERSION     AH001475.2\n",
      "KEYWORDS    beta-globin.\n",
      "SOURCE      Homo sapiens (human)\n",
      "  ORGANISM  Homo sapiens\n",
      "            Eukaryota; Metazoa; Chordata; Craniata; Vertebrata; Euteleostomi;\n",
      "            Mammalia; Eutheria; Euarchontoglires; Primates; Haplorrhini;\n",
      "            Catarrhini; Hominidae; Homo.\n"
     ]
    }
   ],
   "source": [
    "%%bash\n",
    "head ./entries.gb"
   ]
  },
  {
   "cell_type": "markdown",
   "metadata": {},
   "source": [
    "<h3 style=\"color:#8F091A\">1.6 Retrieve a single GenBank entry (Optional exercise)</h3>\n",
    "<h4 style=\"color:#8F091A\">1.6.1 Retrieve a single GenBank entry (Optional exercise)</h4>"
   ]
  },
  {
   "cell_type": "code",
   "execution_count": 122,
   "metadata": {},
   "outputs": [],
   "source": [
    "out_handler = open('./entries.fasta', 'w+')\n",
    "out_handler.write('')\n",
    "out_handler.close()\n",
    "\n",
    "with open('./entries.fasta','a') as docEntriesFasta:\n",
    "    docEntriesFasta.write(GetRecord(searchResults,'fasta'))"
   ]
  },
  {
   "cell_type": "code",
   "execution_count": 123,
   "metadata": {},
   "outputs": [
    {
     "name": "stdout",
     "output_type": "stream",
     "text": [
      ">AH001475.2 Homo sapiens beta-globin gene, complete cds\n",
      "TCTATTTATTTAGCAATAATAGAGAAAGCATTTAAGAGAATAAAGCAATGGAAATAAGAAATTTGTAAAT\n",
      "TTCCTTCTGATAACTAGAAATAGAGGATCCAGTTTCTTTTGGTTAACCTAAATTTTATTTCATTTTATTG\n",
      "TTTTATTTTATTTTATTTTATTTTATTTTATTTTGTGTAATCGTAGTTTCAGAGTGTTAGAGCTGAAAGG\n",
      "AAGAAGTAGGAGAAACATGCAAAGTAAAAGTATAACACTTTCCTTACTAAACCGACATGGGTTTCCAGGT\n",
      "AGGGGCAGGATTCAGGATGACTGACAGGGCCCTTAGGGAACACTGAGACCCTACGCTGACCTCATAAATG\n",
      "CTTGCTACCTTTGCTGTTTTAATTACATCTTTTAATAGCAGGAAGCAGAACTCTGCACTTCAAAAGTTTT\n",
      "TCCTCACCTGAGGAGTTAATTTAGTACAAGGGGAAAAAGTACAGGGGGATGGGAGAAAGGCGATCACGTT\n",
      "GGGAAGCTATAGAGAAAGAAGAGTAAATTTTAGTAAAGGAGGTTTAAACAAACAAAATATAAAGAGAAAT\n",
      "AGGAACTTGAATCAAGGAAATGATTTTAAAACGCAGTATTCTTAGTGGACTAGAGGAAAAAAATAATCTG\n"
     ]
    }
   ],
   "source": [
    "%%bash\n",
    "head ./entries.fasta"
   ]
  },
  {
   "cell_type": "markdown",
   "metadata": {},
   "source": [
    "<h4 style=\"color:#8F091A\">1.6.2 Retrieve a single GenBank entry (Optional exercise)</h4>"
   ]
  },
  {
   "cell_type": "code",
   "execution_count": 124,
   "metadata": {},
   "outputs": [],
   "source": [
    "counter = 1\n",
    "\n",
    "for gbRecord in SeqIO.parse('./entries.gb', 'genbank'):\n",
    "    file = open(\"./betaglobin_gbfiles/globinRecord_{}.gb\".format(counter),\"w+\")\n",
    "    file.write(str(gbRecord))\n",
    "    counter += 1\n",
    "    file.close()\n",
    "        \n",
    "           "
   ]
  },
  {
   "cell_type": "code",
   "execution_count": 125,
   "metadata": {},
   "outputs": [
    {
     "name": "stdout",
     "output_type": "stream",
     "text": [
      "ID: AH001475.2\n",
      "Name: AH001475\n",
      "Description: Homo sapiens beta-globin gene, complete cds\n",
      "Number of features: 13\n",
      "/molecule_type=DNA\n",
      "/topology=linear\n",
      "/data_file_division=PRI\n",
      "/date=10-JUN-2016\n",
      "/accessions=['AH001475', 'M34058', 'M34059']\n",
      "/sequence_version=2\n"
     ]
    }
   ],
   "source": [
    "%%bash\n",
    "head ./betaglobin_gbfiles/globinRecord_1.gb"
   ]
  },
  {
   "cell_type": "markdown",
   "metadata": {},
   "source": [
    "<h4 style=\"color:#8F091A\">1.6.3 Retrieve a single GenBank entry (Optional exercise)</h4>"
   ]
  },
  {
   "cell_type": "code",
   "execution_count": 126,
   "metadata": {},
   "outputs": [
    {
     "data": {
      "text/plain": [
       "['33261264', '33238928', '33180011', '33177908', '33008877', '32716940', '32697331', '32646433', '32614730', '32579813', '32491454', '32409247', '32391975', '32348635', '32334583', '32265284', '32211753', '32189304', '32183478', '32043441', '31999737', '31959596', '31937250', '31933570', '31889707', '31815023', '31808910', '31794569', '31703724', '31692839', '31681984', '31656474', '31562022', '31546868', '31518428', '31288760', '31167999', '31084943', '31037173', '31029083', '30923098', '30827499', '30787300', '30665411', '30658602', '30657108', '30605461', '30595467', '30578732', '30541465', '30501550', '30472238', '30455821', '30425067', '30411430', '30393954', '30344128', '30245824', '30222732', '30200838', '30178476', '30165857', '30145110', '30060095', '29946035', '29801034', '29749368', '29609623', '29607473', '29599243', '29588281', '29579313', '29524230', '29489205', '29408573', '29321025', '29318647', '29313430', '29310873', '29260650', '29242203', '29168218', '29127677', '29051184', '28992220', '28947801', '28927555', '28922657', '28834130', '28811305', '28810839', '28793894', '28768839', '28743191', '28671630', '28515013', '28493472', '28450986', '28439418', '28438159']"
      ]
     },
     "execution_count": 126,
     "metadata": {},
     "output_type": "execute_result"
    }
   ],
   "source": [
    "handle = Entrez.esearch(db=\"pubmed\", term=\"(malaria) AND (sickle cell anemia)\", retmax=100)\n",
    "record = Entrez.read(handle)\n",
    "\n",
    "record['IdList']"
   ]
  },
  {
   "cell_type": "markdown",
   "metadata": {},
   "source": [
    "<h2 style=\"color:#8F091A\">2 Retrieve a single GenBank entry</h2>\n",
    "<h3 style=\"color:#8F091A\">2.1 Retrieve a single GenBank entry</h3>"
   ]
  },
  {
   "cell_type": "code",
   "execution_count": 127,
   "metadata": {},
   "outputs": [
    {
     "name": "stdout",
     "output_type": "stream",
     "text": [
      "ID: M25079.1\n",
      "Name: HUMBETGLA\n",
      "Description: Human sickle cell beta-globin mRNA, complete cds\n",
      "Number of features: 2\n",
      "/molecule_type=mRNA\n",
      "/topology=linear\n",
      "/data_file_division=PRI\n",
      "/date=27-APR-1993\n",
      "/accessions=['M25079']\n",
      "/sequence_version=1\n",
      "/keywords=['']\n",
      "/source=Homo sapiens (human)\n",
      "/organism=Homo sapiens\n",
      "/taxonomy=['Eukaryota', 'Metazoa', 'Chordata', 'Craniata', 'Vertebrata', 'Euteleostomi', 'Mammalia', 'Eutheria', 'Euarchontoglires', 'Primates', 'Haplorrhini', 'Catarrhini', 'Hominidae', 'Homo']\n",
      "/references=[Reference(title='Nucleotide sequence analysis of coding and noncoding regions of human beta-globin mRNA', ...)]\n",
      "/comment=Original source text: Human sickle cell, cDNA to mRNA.\n",
      "Seq('ATGGTNCAYYTNACNCCNGTGGAGAAGTCYGCYGTNACNGCNCTNTGGGGYAAG...TTT')\n"
     ]
    }
   ],
   "source": [
    "from Bio import SeqIO\n",
    "\n",
    "for gbRecord in SeqIO.parse('./sickle.gb', 'genbank'):\n",
    "    print(gbRecord)"
   ]
  },
  {
   "cell_type": "markdown",
   "metadata": {},
   "source": [
    "<h3 style=\"color:#8F091A\">2.2 Retrieve a single GenBank entry</h3>"
   ]
  },
  {
   "cell_type": "code",
   "execution_count": 128,
   "metadata": {},
   "outputs": [
    {
     "name": "stdout",
     "output_type": "stream",
     "text": [
      "M25079.1\n",
      "HUMBETGLA\n",
      "Human sickle cell beta-globin mRNA, complete cds\n"
     ]
    }
   ],
   "source": [
    "for gbRecord in SeqIO.parse('./sickle.gb', 'genbank'):\n",
    "    print(gbRecord.id)\n",
    "    print(gbRecord.name)\n",
    "    print(gbRecord.description)\n",
    "    sickleCell = gbRecord\n"
   ]
  },
  {
   "cell_type": "markdown",
   "metadata": {},
   "source": [
    "<h3 style=\"color:#8F091A\">2.3 Retrieve a single GenBank entry</h3>"
   ]
  },
  {
   "cell_type": "code",
   "execution_count": 129,
   "metadata": {},
   "outputs": [
    {
     "data": {
      "text/plain": [
       "1"
      ]
     },
     "execution_count": 129,
     "metadata": {},
     "output_type": "execute_result"
    }
   ],
   "source": [
    "SeqIO.write(gbRecord, './file_ex2.fasta', 'fasta')\n"
   ]
  },
  {
   "cell_type": "code",
   "execution_count": 130,
   "metadata": {},
   "outputs": [
    {
     "name": "stdout",
     "output_type": "stream",
     "text": [
      ">M25079.1 Human sickle cell beta-globin mRNA, complete cds\n",
      "ATGGTNCAYYTNACNCCNGTGGAGAAGTCYGCYGTNACNGCNCTNTGGGGYAAGGTNAAY\n",
      "GTGGATGAAGYYGGYGGYGAGGCCCTGGGCAGNCTGCTNGTGGTCTACCCTTGGACCCAG\n",
      "AGGTTCTTNGANTCNTTYGGGGATCTGNNNACNCCNGANGCAGTTATGGGCAACCCTAAG\n",
      "GTGAAGGCTCATGGCAAGAAAGTGCTCGGTGCCTTTAGTGATGGCCTGGCTCACCTGGAC\n",
      "AACCTCAAGGGCACCTTTGCCACACTGAGTGAGCTGCACTGTGACAAGCTNCAYGTGGAT\n",
      "CCTGAGAACTTCAGGCTNCTNGGCAACGTGYTNGTCTGYGTGCTGGCCCATCACTTTGGC\n",
      "AAAGAATTCACCCCACCAGTGCANGCNGCCTATCAGAAAGTGGTNGCTGGTGTNGCTAAT\n",
      "GCCCTGGCCCACAAGTATCACTAAGCTNGCYTTYTTGYTGTCCAATTT\n"
     ]
    }
   ],
   "source": [
    "%%bash\n",
    "less ./file_ex2.fasta"
   ]
  },
  {
   "cell_type": "markdown",
   "metadata": {},
   "source": [
    "<h3 style=\"color:#8F091A\">2.4 Retrieve a single GenBank entry</h3>"
   ]
  },
  {
   "cell_type": "code",
   "execution_count": 131,
   "metadata": {},
   "outputs": [
    {
     "name": "stdout",
     "output_type": "stream",
     "text": [
      "AH001475.2\n",
      "AH001475\n",
      "Homo sapiens beta-globin gene, complete cds\n",
      "\n",
      "L26478.1\n",
      "HUMBETGLOR\n",
      "Human haplotype D3 beta-globin gene, complete cds\n",
      "\n",
      "L26477.1\n",
      "HUMBETGLOP\n",
      "Human haplotype D2 beta-globin gene, complete cds\n",
      "\n",
      "L26476.1\n",
      "HUMBETGLOO\n",
      "Human haplotype D1 beta-globin gene, complete cds\n",
      "\n",
      "L26475.1\n",
      "HUMBETGLON\n",
      "Human haplotype C2 beta-globin gene, complete cds\n",
      "\n",
      "L26474.1\n",
      "HUMBETGLOM\n",
      "Human haplotype C3 beta-globin gene, complete cds\n",
      "\n",
      "L26473.1\n",
      "HUMBETGLOL\n",
      "Human haplotype C1 beta-globin gene, complete cds\n",
      "\n",
      "L26472.1\n",
      "HUMBETGLOK\n",
      "Human haplotype B6 beta-globin gene, complete cds\n",
      "\n",
      "L26471.1\n",
      "HUMBETGLOJ\n",
      "Human haplotype B5 beta-globin gene, complete cds\n",
      "\n",
      "L26470.1\n",
      "HUMBETGLOI\n",
      "Human haplotype B4 beta-globin gene, complete cds\n",
      "\n",
      "L26469.1\n",
      "HUMBETGLOH\n",
      "Human haplotype B3 beta-globin gene, complete cds\n",
      "\n",
      "L26468.1\n",
      "HUMBETGLOG\n",
      "Human haplotype B2 beta-globin gene, complete cds\n",
      "\n",
      "L26467.1\n",
      "HUMBETGLOF\n",
      "Human haplotype B1 beta-globin gene, complete cds\n",
      "\n",
      "L26466.1\n",
      "HUMBETGLOE\n",
      "Human haplotype A4 beta-globin gene, complete cds\n",
      "\n",
      "L26465.1\n",
      "HUMBETGLOD\n",
      "Human haplotype A3 beta-globin gene, complete cds\n",
      "\n",
      "L26464.1\n",
      "HUMBETGLOC\n",
      "Human haplotype A2 beta-globin gene, complete cds\n",
      "\n",
      "L26463.1\n",
      "HUMBETGLOB\n",
      "Human haplotype A1 beta-globin gene, complete cds\n",
      "\n",
      "L26462.1\n",
      "HUMBETGLOA\n",
      "Human haplotype C4 beta-globin gene, complete cds\n",
      "\n"
     ]
    }
   ],
   "source": [
    "for gbRecord in SeqIO.parse('./entries.gb', 'genbank'):\n",
    "    print(gbRecord.id)\n",
    "    print(gbRecord.name)\n",
    "    print(gbRecord.description, end='\\n\\n')"
   ]
  },
  {
   "cell_type": "markdown",
   "metadata": {},
   "source": [
    "<h3 style=\"color:#8F091A\">2.5 Retrieve a single GenBank entry</h3>"
   ]
  },
  {
   "cell_type": "code",
   "execution_count": 132,
   "metadata": {},
   "outputs": [
    {
     "name": "stdout",
     "output_type": "stream",
     "text": [
      "AH001475.2\n",
      "AH001475\n",
      "Homo sapiens beta-globin gene, complete cds\n",
      "\n",
      "L26478.1\n",
      "HUMBETGLOR\n",
      "Human haplotype D3 beta-globin gene, complete cds\n",
      "\n",
      "L26477.1\n",
      "HUMBETGLOP\n",
      "Human haplotype D2 beta-globin gene, complete cds\n",
      "\n",
      "L26476.1\n",
      "HUMBETGLOO\n",
      "Human haplotype D1 beta-globin gene, complete cds\n",
      "\n",
      "L26475.1\n",
      "HUMBETGLON\n",
      "Human haplotype C2 beta-globin gene, complete cds\n",
      "\n",
      "L26474.1\n",
      "HUMBETGLOM\n",
      "Human haplotype C3 beta-globin gene, complete cds\n",
      "\n",
      "L26473.1\n",
      "HUMBETGLOL\n",
      "Human haplotype C1 beta-globin gene, complete cds\n",
      "\n",
      "L26472.1\n",
      "HUMBETGLOK\n",
      "Human haplotype B6 beta-globin gene, complete cds\n",
      "\n",
      "L26471.1\n",
      "HUMBETGLOJ\n",
      "Human haplotype B5 beta-globin gene, complete cds\n",
      "\n",
      "L26470.1\n",
      "HUMBETGLOI\n",
      "Human haplotype B4 beta-globin gene, complete cds\n",
      "\n",
      "L26469.1\n",
      "HUMBETGLOH\n",
      "Human haplotype B3 beta-globin gene, complete cds\n",
      "\n",
      "L26468.1\n",
      "HUMBETGLOG\n",
      "Human haplotype B2 beta-globin gene, complete cds\n",
      "\n",
      "L26467.1\n",
      "HUMBETGLOF\n",
      "Human haplotype B1 beta-globin gene, complete cds\n",
      "\n",
      "L26466.1\n",
      "HUMBETGLOE\n",
      "Human haplotype A4 beta-globin gene, complete cds\n",
      "\n",
      "L26465.1\n",
      "HUMBETGLOD\n",
      "Human haplotype A3 beta-globin gene, complete cds\n",
      "\n",
      "L26464.1\n",
      "HUMBETGLOC\n",
      "Human haplotype A2 beta-globin gene, complete cds\n",
      "\n",
      "L26463.1\n",
      "HUMBETGLOB\n",
      "Human haplotype A1 beta-globin gene, complete cds\n",
      "\n",
      "L26462.1\n",
      "HUMBETGLOA\n",
      "Human haplotype C4 beta-globin gene, complete cds\n",
      "\n"
     ]
    }
   ],
   "source": [
    "import re\n",
    "\n",
    "for gbRecord in SeqIO.parse('./entries.gb', 'genbank'):\n",
    "    if not re.search('(isolate)|(vector)', gbRecord.description) and re.search('globin', gbRecord.description):\n",
    "        print(gbRecord.id)\n",
    "        print(gbRecord.name)\n",
    "        print(gbRecord.description, end='\\n\\n')"
   ]
  },
  {
   "cell_type": "markdown",
   "metadata": {},
   "source": [
    "<h3 style=\"color:#8F091A\">2.6 Retrieve a single GenBank entry</h3>\n",
    "<h4 style=\"color:#8F091A\">2.6.1 Retrieve a single GenBank entry</h4>"
   ]
  },
  {
   "cell_type": "code",
   "execution_count": 133,
   "metadata": {},
   "outputs": [
    {
     "name": "stdout",
     "output_type": "stream",
     "text": [
      "[SeqRecord(seq=Seq('TCTATTTATTTAGCAATAATAGAGAAAGCATTTAAGAGAATAAAGCAATGGAAA...AAA'), id='AH001475.2', name='AH001475', description='Homo sapiens beta-globin gene, complete cds', dbxrefs=[]), SeqRecord(seq=Seq('ACCTCCTATTTGACACCACTGATTACCCCATTGATAGTCACACTTTGGGTTGTA...ATC'), id='L26478.1', name='HUMBETGLOR', description='Human haplotype D3 beta-globin gene, complete cds', dbxrefs=[]), SeqRecord(seq=Seq('ACCTCCTATTTGACACCACTGATTACCCCATTGATAGTCACACTTTGGGTTGTA...ATC'), id='L26477.1', name='HUMBETGLOP', description='Human haplotype D2 beta-globin gene, complete cds', dbxrefs=[]), SeqRecord(seq=Seq('ACCTCCTATTTGACACCACTGATTACCCCATTGATAGTCACACTTTGGGTTGTA...ATC'), id='L26476.1', name='HUMBETGLOO', description='Human haplotype D1 beta-globin gene, complete cds', dbxrefs=[]), SeqRecord(seq=Seq('ACCTCCTATTTGACACCACTGATTACCCCATTGATAGTCACACTTTGGGTTGTA...ATC'), id='L26475.1', name='HUMBETGLON', description='Human haplotype C2 beta-globin gene, complete cds', dbxrefs=[]), SeqRecord(seq=Seq('ACCTCCTATTTGACACCACTGATTACCCCATTGATAGTCACACTTTGGGTTGTA...ATC'), id='L26474.1', name='HUMBETGLOM', description='Human haplotype C3 beta-globin gene, complete cds', dbxrefs=[]), SeqRecord(seq=Seq('ACCTCCTATTTGACACCACTGATTACCCCATTGATAGTCACACTTTGGGTTGTA...ATC'), id='L26473.1', name='HUMBETGLOL', description='Human haplotype C1 beta-globin gene, complete cds', dbxrefs=[]), SeqRecord(seq=Seq('ACCTCCTATTTGACACCACTGATTACCCCATTGATAGTCACACTTTGGGTTGTA...ATC'), id='L26472.1', name='HUMBETGLOK', description='Human haplotype B6 beta-globin gene, complete cds', dbxrefs=[]), SeqRecord(seq=Seq('ACCTCCTATTTGACACCACTGATTACCCCATTGATAGTCACACTTTGGGTTGTA...ATC'), id='L26471.1', name='HUMBETGLOJ', description='Human haplotype B5 beta-globin gene, complete cds', dbxrefs=[]), SeqRecord(seq=Seq('ACCTCCTATTTGACACCACTGATTACCCCATTGATAGTCACACTTTGGGTTGTA...ATC'), id='L26470.1', name='HUMBETGLOI', description='Human haplotype B4 beta-globin gene, complete cds', dbxrefs=[]), SeqRecord(seq=Seq('ACCTCCTATTTGACACCACTGATTACCCCATTGATAGTCACACTTTGGGTTGTA...ATC'), id='L26469.1', name='HUMBETGLOH', description='Human haplotype B3 beta-globin gene, complete cds', dbxrefs=[]), SeqRecord(seq=Seq('ACCTCCTATTTGACACCACTGATTACCCCATTGATAGTCACACTTTGGGTTGTA...ATC'), id='L26468.1', name='HUMBETGLOG', description='Human haplotype B2 beta-globin gene, complete cds', dbxrefs=[]), SeqRecord(seq=Seq('ACCTCCTATTTGACACCACTGATTACCCCATTGATAGTCACACTTTGGGTTGTA...ATC'), id='L26467.1', name='HUMBETGLOF', description='Human haplotype B1 beta-globin gene, complete cds', dbxrefs=[]), SeqRecord(seq=Seq('ACCTCCTATTTGACACCACTGATTACCCCATTGATAGTCACACTTTGGGTTGTA...ATC'), id='L26466.1', name='HUMBETGLOE', description='Human haplotype A4 beta-globin gene, complete cds', dbxrefs=[]), SeqRecord(seq=Seq('ACCTCCTATTTGACACCACTGATTACCCCATTGATAGTCACACTTTGGGTTGTA...ATC'), id='L26465.1', name='HUMBETGLOD', description='Human haplotype A3 beta-globin gene, complete cds', dbxrefs=[]), SeqRecord(seq=Seq('ACCTCCTATTTGACACCACTGATTACCCCATTGATAGTCACACTTTGGGTTGTA...ATC'), id='L26464.1', name='HUMBETGLOC', description='Human haplotype A2 beta-globin gene, complete cds', dbxrefs=[]), SeqRecord(seq=Seq('ACCTCCTATTTGACACCACTGATTACCCCATTGATAGTCACACTTTGGGTTGTA...ATC'), id='L26463.1', name='HUMBETGLOB', description='Human haplotype A1 beta-globin gene, complete cds', dbxrefs=[]), SeqRecord(seq=Seq('ACCTCCTATTTGACACCACTGATTACCCCATTGATAGTCACACTTTGGGTTGTA...ATC'), id='L26462.1', name='HUMBETGLOA', description='Human haplotype C4 beta-globin gene, complete cds', dbxrefs=[])]\n"
     ]
    }
   ],
   "source": [
    "gbs = []\n",
    "for gbRecord in SeqIO.parse('./entries.gb', 'genbank'):\n",
    "    if not re.search('(isolate)|(vector)', gbRecord.description) and re.search('globin', gbRecord.description):\n",
    "        gbs.append(gbRecord)\n",
    "print(gbs)"
   ]
  },
  {
   "cell_type": "markdown",
   "metadata": {},
   "source": [
    "<h4 style=\"color:#8F091A\">2.6.2 Retrieve a single GenBank entry</h4>"
   ]
  },
  {
   "cell_type": "code",
   "execution_count": 134,
   "metadata": {},
   "outputs": [],
   "source": [
    "out_handler = open('./filter_globin.fasta', 'w+')\n",
    "out_handler.write('')\n",
    "out_handler.close()\n",
    "\n",
    "with open('./filter_globin.fasta','a') as docEntriesFasta:\n",
    "    for gbRecord in gbs:\n",
    "        SeqIO.write(gbRecord, docEntriesFasta, \"fasta\")"
   ]
  },
  {
   "cell_type": "code",
   "execution_count": 135,
   "metadata": {},
   "outputs": [
    {
     "name": "stdout",
     "output_type": "stream",
     "text": [
      ">AH001475.2 Homo sapiens beta-globin gene, complete cds\n",
      "TCTATTTATTTAGCAATAATAGAGAAAGCATTTAAGAGAATAAAGCAATGGAAATAAGAA\n",
      "ATTTGTAAATTTCCTTCTGATAACTAGAAATAGAGGATCCAGTTTCTTTTGGTTAACCTA\n",
      "AATTTTATTTCATTTTATTGTTTTATTTTATTTTATTTTATTTTATTTTATTTTGTGTAA\n",
      "TCGTAGTTTCAGAGTGTTAGAGCTGAAAGGAAGAAGTAGGAGAAACATGCAAAGTAAAAG\n",
      "TATAACACTTTCCTTACTAAACCGACATGGGTTTCCAGGTAGGGGCAGGATTCAGGATGA\n",
      "CTGACAGGGCCCTTAGGGAACACTGAGACCCTACGCTGACCTCATAAATGCTTGCTACCT\n",
      "TTGCTGTTTTAATTACATCTTTTAATAGCAGGAAGCAGAACTCTGCACTTCAAAAGTTTT\n",
      "TCCTCACCTGAGGAGTTAATTTAGTACAAGGGGAAAAAGTACAGGGGGATGGGAGAAAGG\n",
      "CGATCACGTTGGGAAGCTATAGAGAAAGAAGAGTAAATTTTAGTAAAGGAGGTTTAAACA\n"
     ]
    }
   ],
   "source": [
    "%%bash\n",
    "head ./filter_globin.fasta"
   ]
  },
  {
   "cell_type": "markdown",
   "metadata": {},
   "source": [
    "<h4 style=\"color:#8F091A\">2.6.3 Retrieve a single GenBank entry</h4>"
   ]
  },
  {
   "cell_type": "code",
   "execution_count": 136,
   "metadata": {},
   "outputs": [
    {
     "name": "stdout",
     "output_type": "stream",
     "text": [
      "L26478.1\n",
      "L26477.1\n",
      "L26476.1\n",
      "L26475.1\n",
      "L26474.1\n",
      "L26473.1\n",
      "L26472.1\n",
      "L26471.1\n",
      "L26470.1\n",
      "L26469.1\n",
      "L26468.1\n",
      "L26467.1\n",
      "L26466.1\n",
      "L26465.1\n",
      "L26464.1\n",
      "L26463.1\n",
      "L26462.1\n"
     ]
    }
   ],
   "source": [
    "for gbRecord in gbs:\n",
    "    if (gbRecord.id).startswith(\"L\"):\n",
    "        print(gbRecord.id)"
   ]
  },
  {
   "cell_type": "markdown",
   "metadata": {},
   "source": [
    "<h2 style=\"color:#8F091A\">3 Retrieve a single GenBank entry</h2>\n",
    "<h3 style=\"color:#8F091A\">3.1 Retrieve a single GenBank entry</h3>"
   ]
  },
  {
   "cell_type": "code",
   "execution_count": 137,
   "metadata": {},
   "outputs": [
    {
     "name": "stdout",
     "output_type": "stream",
     "text": [
      "ATGGTNCAYYTNACNCCNGTGGAGAAGTCYGCYGTNACNGCNCTNTGGGGYAAGGTNAAYGTGGATGAAGYYGGYGGYGAGGCCCTGGGCAGNCTGCTNGTGGTCTACCCTTGGACCCAGAGGTTCTTNGANTCNTTYGGGGATCTGNNNACNCCNGANGCAGTTATGGGCAACCCTAAGGTGAAGGCTCATGGCAAGAAAGTGCTCGGTGCCTTTAGTGATGGCCTGGCTCACCTGGACAACCTCAAGGGCACCTTTGCCACACTGAGTGAGCTGCACTGTGACAAGCTNCAYGTGGATCCTGAGAACTTCAGGCTNCTNGGCAACGTGYTNGTCTGYGTGCTGGCCCATCACTTTGGCAAAGAATTCACCCCACCAGTGCANGCNGCCTATCAGAAAGTGGTNGCTGGTGTNGCTAATGCCCTGGCCCACAAGTATCACTAAGCTNGCYTTYTTGYTGTCCAATTT\n"
     ]
    }
   ],
   "source": [
    "seqSickle = sickleCell.seq\n",
    "print(seqSickle)\n"
   ]
  },
  {
   "cell_type": "markdown",
   "metadata": {},
   "source": [
    "<h3 style=\"color:#8F091A\">3.2 Retrieve a single GenBank entry</h3>"
   ]
  },
  {
   "cell_type": "code",
   "execution_count": 138,
   "metadata": {},
   "outputs": [
    {
     "name": "stdout",
     "output_type": "stream",
     "text": [
      "AUGGUNCAYYUNACNCCNGUGGAGAAGUCYGCYGUNACNGCNCUNUGGGGYAAGGUNAAYGUGGAUGAAGYYGGYGGYGAGGCCCUGGGCAGNCUGCUNGUGGUCUACCCUUGGACCCAGAGGUUCUUNGANUCNUUYGGGGAUCUGNNNACNCCNGANGCAGUUAUGGGCAACCCUAAGGUGAAGGCUCAUGGCAAGAAAGUGCUCGGUGCCUUUAGUGAUGGCCUGGCUCACCUGGACAACCUCAAGGGCACCUUUGCCACACUGAGUGAGCUGCACUGUGACAAGCUNCAYGUGGAUCCUGAGAACUUCAGGCUNCUNGGCAACGUGYUNGUCUGYGUGCUGGCCCAUCACUUUGGCAAAGAAUUCACCCCACCAGUGCANGCNGCCUAUCAGAAAGUGGUNGCUGGUGUNGCUAAUGCCCUGGCCCACAAGUAUCACUAAGCUNGCYUUYUUGYUGUCCAAUUU\n"
     ]
    }
   ],
   "source": [
    "rnaSickle = seqSickle.transcribe()\n",
    "print(rnaSickle)"
   ]
  },
  {
   "cell_type": "markdown",
   "metadata": {},
   "source": [
    "<h3 style=\"color:#8F091A\">3.3 Retrieve a single GenBank entry</h3>"
   ]
  },
  {
   "cell_type": "code",
   "execution_count": 139,
   "metadata": {},
   "outputs": [
    {
     "name": "stdout",
     "output_type": "stream",
     "text": [
      "MVHXTPVEKSAVTALWGKVNVDEXGGEALGXLLVVYPWTQRFXXSFGDLXTPXAVMGNPKVKAHGKKVLGAFSDGLAHLDNLKGTFATLSELHCDKLHVDPENFRLLGNVXVCVLAHHFGKEFTPPVXAAYQKVVAGVANALAHKYH\n"
     ]
    }
   ],
   "source": [
    "protSickle = rnaSickle.translate(to_stop=True)\n",
    "print(protSickle)"
   ]
  },
  {
   "cell_type": "markdown",
   "metadata": {},
   "source": [
    "<h3 style=\"color:#8F091A\">3.4 Retrieve a single GenBank entry</h3>"
   ]
  },
  {
   "cell_type": "code",
   "execution_count": 140,
   "metadata": {},
   "outputs": [],
   "source": [
    "with open ('./L26462.gb', 'w+') as handler:\n",
    "    for gbRecord in SeqIO.parse('./entries.gb', 'genbank'):\n",
    "        access = gbRecord.annotations['accessions']\n",
    "        if access[0] == 'L26462':\n",
    "            L26462 = gbRecord\n",
    "            handler.write(str(L26462))\n",
    "        "
   ]
  },
  {
   "cell_type": "code",
   "execution_count": 141,
   "metadata": {},
   "outputs": [
    {
     "name": "stdout",
     "output_type": "stream",
     "text": [
      "ID: L26462.1\n",
      "Name: HUMBETGLOA\n",
      "Description: Human haplotype C4 beta-globin gene, complete cds\n",
      "Number of features: 26\n",
      "/molecule_type=DNA\n",
      "/topology=linear\n",
      "/data_file_division=PRI\n",
      "/date=26-AUG-1994\n",
      "/accessions=['L26462']\n",
      "/sequence_version=1\n",
      "/keywords=['beta-globin']\n",
      "/source=Homo sapiens (human)\n",
      "/organism=Homo sapiens\n",
      "/taxonomy=['Eukaryota', 'Metazoa', 'Chordata', 'Craniata', 'Vertebrata', 'Euteleostomi', 'Mammalia', 'Eutheria', 'Euarchontoglires', 'Primates', 'Haplorrhini', 'Catarrhini', 'Hominidae', 'Homo']\n",
      "/references=[Reference(title='Molecular and population genetic analysis of allelic sequence diversity at the human beta-globin locus', ...)]\n",
      "Seq('ACCTCCTATTTGACACCACTGATTACCCCATTGATAGTCACACTTTGGGTTGTA...ATC')"
     ]
    }
   ],
   "source": [
    "%%bash\n",
    "less ./L26462.gb"
   ]
  },
  {
   "cell_type": "markdown",
   "metadata": {},
   "source": [
    "<h3 style=\"color:#8F091A\">3.5 Retrieve a single GenBank entry</h3>"
   ]
  },
  {
   "cell_type": "code",
   "execution_count": 142,
   "metadata": {},
   "outputs": [
    {
     "name": "stdout",
     "output_type": "stream",
     "text": [
      "[SeqFeature(FeatureLocation(ExactPosition(0), ExactPosition(3002), strand=1), type='source'), SeqFeature(FeatureLocation(ExactPosition(110), ExactPosition(111), strand=1), type='variation'), SeqFeature(FeatureLocation(ExactPosition(262), ExactPosition(263), strand=1), type='variation'), SeqFeature(FeatureLocation(ExactPosition(272), ExactPosition(273), strand=1), type='variation'), SeqFeature(FeatureLocation(ExactPosition(285), ExactPosition(287), strand=1), type='variation'), SeqFeature(FeatureLocation(ExactPosition(287), ExactPosition(288), strand=1), type='variation'), SeqFeature(FeatureLocation(ExactPosition(294), ExactPosition(296), strand=1), type='variation'), SeqFeature(FeatureLocation(ExactPosition(346), ExactPosition(347), strand=1), type='variation'), SeqFeature(FeatureLocation(ExactPosition(475), ExactPosition(476), strand=1), type='variation'), SeqFeature(FeatureLocation(ExactPosition(499), ExactPosition(500), strand=1), type='variation'), SeqFeature(CompoundLocation([FeatureLocation(ExactPosition(865), ExactPosition(957), strand=1), FeatureLocation(ExactPosition(1087), ExactPosition(1310), strand=1), FeatureLocation(ExactPosition(2160), ExactPosition(2289), strand=1)], 'join'), type='CDS', location_operator='join'), SeqFeature(FeatureLocation(BeforePosition(865), ExactPosition(957), strand=1), type='exon'), SeqFeature(FeatureLocation(ExactPosition(873), ExactPosition(874), strand=1), type='variation'), SeqFeature(FeatureLocation(ExactPosition(957), ExactPosition(1087), strand=1), type='intron'), SeqFeature(FeatureLocation(ExactPosition(1087), ExactPosition(1310), strand=1), type='exon'), SeqFeature(FeatureLocation(ExactPosition(1310), ExactPosition(2160), strand=1), type='intron'), SeqFeature(FeatureLocation(ExactPosition(1325), ExactPosition(1326), strand=1), type='variation'), SeqFeature(FeatureLocation(ExactPosition(1383), ExactPosition(1384), strand=1), type='variation'), SeqFeature(FeatureLocation(ExactPosition(1390), ExactPosition(1391), strand=1), type='variation'), SeqFeature(FeatureLocation(ExactPosition(1975), ExactPosition(1976), strand=1), type='variation'), SeqFeature(FeatureLocation(ExactPosition(2160), AfterPosition(2289), strand=1), type='exon'), SeqFeature(FeatureLocation(ExactPosition(2521), ExactPosition(2522), strand=1), type='variation'), SeqFeature(FeatureLocation(ExactPosition(2601), ExactPosition(2602), strand=1), type='variation'), SeqFeature(FeatureLocation(ExactPosition(2603), ExactPosition(2604), strand=1), type='variation'), SeqFeature(FeatureLocation(ExactPosition(2759), ExactPosition(2760), strand=1), type='variation'), SeqFeature(FeatureLocation(ExactPosition(2912), ExactPosition(2913), strand=1), type='variation')]\n"
     ]
    }
   ],
   "source": [
    "print(L26462.features)"
   ]
  },
  {
   "cell_type": "markdown",
   "metadata": {},
   "source": [
    "<h3 style=\"color:#8F091A\">3.6 Retrieve a single GenBank entry</h3>"
   ]
  },
  {
   "cell_type": "code",
   "execution_count": 143,
   "metadata": {},
   "outputs": [
    {
     "name": "stdout",
     "output_type": "stream",
     "text": [
      "type: exon\n",
      "location: [<865:957](+)\n",
      "qualifiers:\n",
      "    Key: number, Value: ['1']\n",
      "\n",
      "\tstart:  <865\n",
      "\tend:  957\n",
      "\tnofuzzy_start:  865\n",
      "\tnofuzzy_end:  957\n",
      "ATGGTGCATCTGACTCCTGAGGAGAAGTCTGCCGTTACTGCCCTGTGGGGCAAGGTGAACGTGGATGAAGTTGGTGGTGAGGCCCTGGGCAG\n",
      "--------------------\n",
      "type: exon\n",
      "location: [1087:1310](+)\n",
      "qualifiers:\n",
      "    Key: number, Value: ['2']\n",
      "\n",
      "\tstart:  1087\n",
      "\tend:  1310\n",
      "\tnofuzzy_start:  1087\n",
      "\tnofuzzy_end:  1310\n",
      "GCTGCTGGTGGTCTACCCTTGGACCCAGAGGTTCTTTGAGTCCTTTGGGGATCTGTCCACTCCTGATGCTGTTATGGGCAACCCTAAGGTGAAGGCTCATGGCAAGAAAGTGCTCGGTGCCTTTAGTGATGGCCTGGCTCACCTGGACAACCTCAAGGGCACCTTTGCCACACTGAGTGAGCTGCACTGTGACAAGCTGCACGTGGATCCTGAGAACTTCAGG\n",
      "--------------------\n",
      "type: exon\n",
      "location: [2160:>2289](+)\n",
      "qualifiers:\n",
      "    Key: number, Value: ['3']\n",
      "\n",
      "\tstart:  2160\n",
      "\tend:  >2289\n",
      "\tnofuzzy_start:  2160\n",
      "\tnofuzzy_end:  2289\n",
      "CTCCTGGGCAACGTGCTGGTCTGTGTGCTGGCCCATCACTTTGGCAAAGAATTCACCCCACCAGTGCAGGCTGCCTATCAGAAAGTGGTGGCTGGTGTGGCTAATGCCCTGGCCCACAAGTATCACTAA\n",
      "--------------------\n",
      "ATGGTGCATCTGACTCCTGAGGAGAAGTCTGCCGTTACTGCCCTGTGGGGCAAGGTGAACGTGGATGAAGTTGGTGGTGAGGCCCTGGGCAGGCTGCTGGTGGTCTACCCTTGGACCCAGAGGTTCTTTGAGTCCTTTGGGGATCTGTCCACTCCTGATGCTGTTATGGGCAACCCTAAGGTGAAGGCTCATGGCAAGAAAGTGCTCGGTGCCTTTAGTGATGGCCTGGCTCACCTGGACAACCTCAAGGGCACCTTTGCCACACTGAGTGAGCTGCACTGTGACAAGCTGCACGTGGATCCTGAGAACTTCAGGCTCCTGGGCAACGTGCTGGTCTGTGTGCTGGCCCATCACTTTGGCAAAGAATTCACCCCACCAGTGCAGGCTGCCTATCAGAAAGTGGTGGCTGGTGTGGCTAATGCCCTGGCCCACAAGTATCACTAA\n"
     ]
    }
   ],
   "source": [
    "completeExon = ''\n",
    "for feature in L26462.features:\n",
    "    if feature.type == 'exon':\n",
    "        print(feature)\n",
    "    \n",
    "        print('\\tstart: ',feature.location.start)\n",
    "        print('\\tend: ',feature.location.end)\n",
    "        \n",
    "        print('\\tnofuzzy_start: ',feature.location.nofuzzy_start)\n",
    "        nfStart = feature.location.nofuzzy_start\n",
    "        print('\\tnofuzzy_end: ',feature.location.nofuzzy_end)\n",
    "        nfEnd = feature.location.nofuzzy_end\n",
    "        \n",
    "        exon = L26462.seq[nfStart:nfEnd]\n",
    "        print(exon, end='\\n--------------------\\n')\n",
    "        completeExon += exon\n",
    "\n",
    "print(completeExon)"
   ]
  },
  {
   "cell_type": "markdown",
   "metadata": {},
   "source": [
    "<h3 style=\"color:#8F091A\">3.7 Retrieve a single GenBank entry</h3>"
   ]
  },
  {
   "cell_type": "code",
   "execution_count": 144,
   "metadata": {},
   "outputs": [
    {
     "name": "stdout",
     "output_type": "stream",
     "text": [
      "AUGGUGCAUCUGACUCCUGAGGAGAAGUCUGCCGUUACUGCCCUGUGGGGCAAGGUGAACGUGGAUGAAGUUGGUGGUGAGGCCCUGGGCAGGCUGCUGGUGGUCUACCCUUGGACCCAGAGGUUCUUUGAGUCCUUUGGGGAUCUGUCCACUCCUGAUGCUGUUAUGGGCAACCCUAAGGUGAAGGCUCAUGGCAAGAAAGUGCUCGGUGCCUUUAGUGAUGGCCUGGCUCACCUGGACAACCUCAAGGGCACCUUUGCCACACUGAGUGAGCUGCACUGUGACAAGCUGCACGUGGAUCCUGAGAACUUCAGGCUCCUGGGCAACGUGCUGGUCUGUGUGCUGGCCCAUCACUUUGGCAAAGAAUUCACCCCACCAGUGCAGGCUGCCUAUCAGAAAGUGGUGGCUGGUGUGGCUAAUGCCCUGGCCCACAAGUAUCACUAA\n",
      "----------\n",
      "MVHLTPEEKSAVTALWGKVNVDEVGGEALGRLLVVYPWTQRFFESFGDLSTPDAVMGNPKVKAHGKKVLGAFSDGLAHLDNLKGTFATLSELHCDKLHVDPENFRLLGNVLVCVLAHHFGKEFTPPVQAAYQKVVAGVANALAHKYH\n"
     ]
    }
   ],
   "source": [
    "seqGlobin = completeExon\n",
    "rnaGlobin = seqGlobin.transcribe()\n",
    "print(rnaGlobin)\n",
    "print('----------')\n",
    "protGlobin = rnaGlobin.translate(to_stop=True)\n",
    "print(protGlobin)"
   ]
  },
  {
   "cell_type": "markdown",
   "metadata": {},
   "source": [
    "<h3 style=\"color:#8F091A\">3.8 Retrieve a single GenBank entry</h3>"
   ]
  },
  {
   "cell_type": "code",
   "execution_count": 145,
   "metadata": {
    "scrolled": true
   },
   "outputs": [
    {
     "name": "stdout",
     "output_type": "stream",
     "text": [
      "ATGGTNCAYYTNACNCCNGTGGAGAAGTCYGCYGTNACNGCNCTNTGGGGYAAGGTNAAYGTGGATGAAGYYGGYGGYGAGGCCCTGGGCAGNCTGCTNGTGGTCTACCCTTGGACCCAGAGGTTCTTNGANTCNTTYGGGGATCTGNNNACNCCNGANGCAGTTATGGGCAACCCTAAGGTGAAGGCTCATGGCAAGAAAGTGCTCGGTGCCTTTAGTGATGGCCTGGCTCACCTGGACAACCTCAAGGGCACCTTTGCCACACTGAGTGAGCTGCACTGTGACAAGCTNCAYGTGGATCCTGAGAACTTCAGGCTNCTNGGCAACGTGYTNGTCTGYGTGCTGGCCCATCACTTTGGCAAAGAATTCACCCCACCAGTGCANGCNGCCTATCAGAAAGTGGTNGCTGGTGTNGCTAATGCCCTGGCCCACAAGTATCACTAAGCTNGCYTTYTTGYTGTCCAATTT\n",
      "----------\n",
      "ATGGTGCATCTGACTCCTGAGGAGAAGTCTGCCGTTACTGCCCTGTGGGGCAAGGTGAACGTGGATGAAGTTGGTGGTGAGGCCCTGGGCAGGCTGCTGGTGGTCTACCCTTGGACCCAGAGGTTCTTTGAGTCCTTTGGGGATCTGTCCACTCCTGATGCTGTTATGGGCAACCCTAAGGTGAAGGCTCATGGCAAGAAAGTGCTCGGTGCCTTTAGTGATGGCCTGGCTCACCTGGACAACCTCAAGGGCACCTTTGCCACACTGAGTGAGCTGCACTGTGACAAGCTGCACGTGGATCCTGAGAACTTCAGGCTCCTGGGCAACGTGCTGGTCTGTGTGCTGGCCCATCACTTTGGCAAAGAATTCACCCCACCAGTGCAGGCTGCCTATCAGAAAGTGGTGGCTGGTGTGGCTAATGCCCTGGCCCACAAGTATCACTAA\n"
     ]
    }
   ],
   "source": [
    "print(seqSickle)\n",
    "print('----------')\n",
    "print(seqGlobin)"
   ]
  },
  {
   "cell_type": "code",
   "execution_count": 146,
   "metadata": {},
   "outputs": [
    {
     "name": "stdout",
     "output_type": "stream",
     "text": [
      "MVHXTPVEKSAVTALWGKVNVDEXGGEALGXLLVVYPWTQRFXXSFGDLXTPXAVMGNPKVKAHGKKVLGAFSDGLAHLDNLKGTFATLSELHCDKLHVDPENFRLLGNVXVCVLAHHFGKEFTPPVXAAYQKVVAGVANALAHKYH\n",
      "----------\n",
      "MVHLTPEEKSAVTALWGKVNVDEVGGEALGRLLVVYPWTQRFFESFGDLSTPDAVMGNPKVKAHGKKVLGAFSDGLAHLDNLKGTFATLSELHCDKLHVDPENFRLLGNVLVCVLAHHFGKEFTPPVQAAYQKVVAGVANALAHKYH\n"
     ]
    }
   ],
   "source": [
    "print(protSickle)\n",
    "print('----------')\n",
    "print(protGlobin)"
   ]
  },
  {
   "cell_type": "markdown",
   "metadata": {},
   "source": [
    " JUSTIFICAR\n",
    " What differences do you see?"
   ]
  },
  {
   "cell_type": "markdown",
   "metadata": {},
   "source": [
    "Opcional 3.9"
   ]
  },
  {
   "cell_type": "markdown",
   "metadata": {},
   "source": [
    "<h2 style=\"color:#8F091A\">4 Retrieve a single GenBank entry</h2>\n",
    "<h3 style=\"color:#8F091A\">4.1 Retrieve a single GenBank entry</h3>"
   ]
  },
  {
   "cell_type": "code",
   "execution_count": null,
   "metadata": {},
   "outputs": [],
   "source": []
  },
  {
   "cell_type": "markdown",
   "metadata": {},
   "source": [
    "<h3 style=\"color:#8F091A\">4.2 Retrieve a single GenBank entry</h3>"
   ]
  },
  {
   "cell_type": "code",
   "execution_count": 147,
   "metadata": {},
   "outputs": [
    {
     "name": "stdout",
     "output_type": "stream",
     "text": [
      "0 - 2\n"
     ]
    }
   ],
   "source": [
    "match = re.search('ATG', str(seqGlobin))\n",
    "if match:\n",
    "    print(match.start(),'-', match.end()-1)"
   ]
  },
  {
   "cell_type": "markdown",
   "metadata": {},
   "source": [
    "<h3 style=\"color:#8F091A\">4.3 Retrieve a single GenBank entry</h3>"
   ]
  },
  {
   "cell_type": "code",
   "execution_count": 148,
   "metadata": {},
   "outputs": [
    {
     "name": "stdout",
     "output_type": "stream",
     "text": [
      "Cortes en sano\n",
      "14-21: TCCTGAG\n",
      "173-180: CCCTAAG\n",
      "262-269: CACTGAG\n",
      "299-306: TCCTGAG\n",
      "\n",
      "Cortes en enfermo\n",
      "173-180: CCCTAAG\n",
      "262-269: CACTGAG\n",
      "299-306: TCCTGAG\n",
      "438-445: CACTAAG\n"
     ]
    }
   ],
   "source": [
    "def CutDNA(restEnz, seq):\n",
    "    for m in re.finditer(restEnz, str(seq)):\n",
    "        print('%02d-%02d: %s' % (m.start(), m.end(), m.group(0)))\n",
    "\n",
    "Ddel = re.compile('[ATGC]{2}CT[ATGC]AG')\n",
    "\n",
    "print('Cortes en sano')\n",
    "CutDNA(Ddel, str(seqGlobin))\n",
    "\n",
    "print('\\nCortes en enfermo')\n",
    "CutDNA(Ddel, str(seqSickle))\n",
    "\n"
   ]
  },
  {
   "cell_type": "markdown",
   "metadata": {},
   "source": [
    "<h3 style=\"color:#8F091A\">4.4 Retrieve a single GenBank entry</h3>"
   ]
  },
  {
   "cell_type": "code",
   "execution_count": 149,
   "metadata": {},
   "outputs": [],
   "source": [
    "reDb = {'Ddel': re.compile('[ATGC]{2}CT[ATGC]AG'),\n",
    "        'HinfI': re.compile('GT[ATGC]{2}AC'),\n",
    "        'BceAI': re.compile('ACGGC[ATGC]{13}'),\n",
    "        'BseRI': re.compile('GAGGAG[ATGC]{10}'),\n",
    "        'EcoRI': re.compile('GAATTC'),\n",
    "        'MstII': re.compile('CCT[ATGC]{1}AGG')}"
   ]
  },
  {
   "cell_type": "code",
   "execution_count": 150,
   "metadata": {},
   "outputs": [
    {
     "name": "stdout",
     "output_type": "stream",
     "text": [
      "Ddel\n",
      "Cortes en sano\n",
      "14-21: TCCTGAG\n",
      "173-180: CCCTAAG\n",
      "262-269: CACTGAG\n",
      "299-306: TCCTGAG\n",
      "\n",
      "Cortes en enfermo\n",
      "173-180: CCCTAAG\n",
      "262-269: CACTGAG\n",
      "299-306: TCCTGAG\n",
      "438-445: CACTAAG\n",
      "------------\n",
      "\n",
      "HinfI\n",
      "Cortes en sano\n",
      "54-60: GTGAAC\n",
      "102-108: GTCTAC\n",
      "146-152: GTCCAC\n",
      "\n",
      "Cortes en enfermo\n",
      "102-108: GTCTAC\n",
      "------------\n",
      "\n",
      "BceAI\n",
      "Cortes en sano\n",
      "\n",
      "Cortes en enfermo\n",
      "------------\n",
      "\n",
      "BseRI\n",
      "Cortes en sano\n",
      "18-34: GAGGAGAAGTCTGCCG\n",
      "\n",
      "Cortes en enfermo\n",
      "------------\n",
      "\n",
      "EcoRI\n",
      "Cortes en sano\n",
      "363-369: GAATTC\n",
      "\n",
      "Cortes en enfermo\n",
      "363-369: GAATTC\n",
      "------------\n",
      "\n",
      "MstII\n",
      "Cortes en sano\n",
      "15-22: CCTGAGG\n",
      "174-181: CCTAAGG\n",
      "\n",
      "Cortes en enfermo\n",
      "174-181: CCTAAGG\n",
      "------------\n",
      "\n"
     ]
    }
   ],
   "source": [
    "for enzyme in reDb:\n",
    "    print(enzyme)\n",
    "    print('Cortes en sano')\n",
    "    CutDNA(reDb[enzyme], str(seqGlobin))\n",
    "\n",
    "    print('\\nCortes en enfermo')\n",
    "    CutDNA(reDb[enzyme], str(seqSickle))\n",
    "    print('------------\\n')"
   ]
  },
  {
   "cell_type": "markdown",
   "metadata": {},
   "source": [
    "JUSTIFICAR\n",
    "Which restriction enzyme could you use to specifically identify carriers of the sickle cell anemia gene?"
   ]
  },
  {
   "cell_type": "markdown",
   "metadata": {},
   "source": [
    "<h3 style=\"color:#8F091A\">4.5 Retrieve a single GenBank entry</h3>"
   ]
  },
  {
   "cell_type": "code",
   "execution_count": 151,
   "metadata": {
    "scrolled": true
   },
   "outputs": [
    {
     "name": "stdout",
     "output_type": "stream",
     "text": [
      "ATGGTGCAYYTGACTCCTGTGGAGAAGTCYGCYGTTACTGCCCTGTGGGGYAAGGTGAAYGTGGATGAAGYYGGYGGYGAGGCCCTGGGCAGGCTGCTGGTGGTCTACCCTTGGACCCAGAGGTTCTTTGAGTCCTTYGGGGATCTGTCCACTCCTGATGCAGTTATGGGCAACCCTAAGGTGAAGGCTCATGGCAAGAAAGTGCTCGGTGCCTTTAGTGATGGCCTGGCTCACCTGGACAACCTCAAGGGCACCTTTGCCACACTGAGTGAGCTGCACTGTGACAAGCTGCAYGTGGATCCTGAGAACTTCAGGCTCCTGGGCAACGTGYTGGTCTGYGTGCTGGCCCATCACTTTGGCAAAGAATTCACCCCACCAGTGCAGGCTGCCTATCAGAAAGTGGTGGCTGGTGTGGCTAATGCCCTGGCCCACAAGTATCACTAA\n"
     ]
    }
   ],
   "source": [
    "cleanSickleSeq = ''\n",
    "for i in range(0, len(seqGlobin)):\n",
    "    if seqSickle[i] == 'N':\n",
    "        cleanSickleSeq += seqGlobin[i]\n",
    "    else:\n",
    "        cleanSickleSeq += seqSickle[i]\n",
    "\n",
    "print(cleanSickleSeq)"
   ]
  },
  {
   "cell_type": "code",
   "execution_count": null,
   "metadata": {},
   "outputs": [],
   "source": []
  }
 ],
 "metadata": {
  "kernelspec": {
   "display_name": "Python 3",
   "language": "python",
   "name": "python3"
  },
  "language_info": {
   "codemirror_mode": {
    "name": "ipython",
    "version": 3
   },
   "file_extension": ".py",
   "mimetype": "text/x-python",
   "name": "python",
   "nbconvert_exporter": "python",
   "pygments_lexer": "ipython3",
   "version": "3.8.3"
  }
 },
 "nbformat": 4,
 "nbformat_minor": 4
}
