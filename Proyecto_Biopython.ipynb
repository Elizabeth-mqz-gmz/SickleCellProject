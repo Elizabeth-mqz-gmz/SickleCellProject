{
 "cells": [
  {
   "cell_type": "markdown",
   "metadata": {},
   "source": [
    "# <h1 style=\"color:#4F76F7; font-family:courier; text-align:center; font-size:250%; background-color:#B8D5E6;\">-- Project: Diagnosing Sickle Cell Anemia --</h1>\n",
    "<em style=\"color:#5390E0; font-family:verdana;\"> Basado en: https://krother.gitbooks.io/biopython-tutorial/content/sicklecell.html </em>"
   ]
  },
  {
   "cell_type": "markdown",
   "metadata": {},
   "source": [
    "<ul type=”A”>\n",
    "  <li style=\"color:#9189F0; font-family:verdana;\">Carlos Michel Mourra Díaz</li>\n",
    "  <li style=\"color:#9189F0; font-family:verdana;\">Elizabeth Márquez Gómez</li>\n",
    "  <li style=\"color:#9189F0; font-family:verdana;\">Salvador González Juárez</li>\n",
    "</ul>"
   ]
  },
  {
   "cell_type": "markdown",
   "metadata": {},
   "source": [
    "# <h2 style=\"color:#4FC2F7; font-family:courier;\">Ejercicios</h2>\n",
    "+ <a href=\"#Ejercicio_1\" style=\"color:#4F76F7; font-family:verdana;\">Ejercicio 1</a>\n",
    "+ <a href=\"#Ejercicio_2\" style=\"color:#4F76F7; font-family:verdana;\">Ejercicio 2</a>\n",
    "+ <a href=\"#Ejercicio_3\" style=\"color:#4F76F7; font-family:verdana;\">Ejercicio 3</a>\n",
    "+ <a href=\"#Ejercicio_4\" style=\"color:#4F76F7; font-family:verdana;\">Ejercicio 4</a>"
   ]
  },
  {
   "cell_type": "markdown",
   "metadata": {},
   "source": [
    "<a id=\"Ejercicio_1\"></a>\n",
    "<h2 style=\"color:#5390E0; font-family:courier; background-color:#CCECFF;\">1. Retrieving DNA and protein sequences with Bio.Entrez</h2>\n",
    "<h3 style=\"color:#4FBAF7; font-family:courier;\">1.1 Search identifiers on NCBI</h3>"
   ]
  },
  {
   "cell_type": "code",
   "execution_count": 44,
   "metadata": {},
   "outputs": [
    {
     "name": "stdout",
     "output_type": "stream",
     "text": [
      "['1868032479', '1515564438', '179408', '224959855', '2168937', '183859', '183844']\n"
     ]
    }
   ],
   "source": [
    "from Bio import Entrez\n",
    "\n",
    "#access entrez with an email\n",
    "Entrez.email = 'elimqzg@lcg.unam.mx'\n",
    "\n",
    "#Get sequence identifiers from the nucleotide database\n",
    "handle = Entrez.esearch(db='nucleotide', term='sickle AND homo sapiens AND globin NOT chromosome') \n",
    "record = Entrez.read(handle)\n",
    "print(record['IdList'])"
   ]
  },
  {
   "cell_type": "markdown",
   "metadata": {},
   "source": [
    "<h3 style=\"color:#4FBAF7; font-family:courier;\">1.2 Retrieve sequences using identifiers</h3>"
   ]
  },
  {
   "cell_type": "code",
   "execution_count": 45,
   "metadata": {},
   "outputs": [
    {
     "name": "stdout",
     "output_type": "stream",
     "text": [
      "Homo sapiens A-gamma globin (HBG1) gene, exon 1 and partial cds\n",
      "MN609913.1\n",
      "\n",
      "Homo sapiens voucher ATGLAB 2018103 hemoglobin beta subunit (HBB) gene, exon 3 and partial cds\n",
      "MH580289.1\n",
      "\n",
      "Human sickle cell beta-globin mRNA, complete cds\n",
      "M25079.1\n",
      "\n",
      "Homo sapiens A-gamma globin (HBG1) gene, promoter region\n",
      "FJ766333.1\n",
      "\n",
      "Part of DNA encoding beta-globin gene\n",
      "E00658.1\n",
      "\n",
      "Human hemoglobin DNA with a deletion causing Indian delta-beta thalassemia\n",
      "M33706.1\n",
      "\n",
      "Human hemoglobin-related sequence across the breakpoint for Indian delta-beta thalassemia\n",
      "M37467.1\n",
      "\n"
     ]
    }
   ],
   "source": [
    "from xml.etree import ElementTree as ET\n",
    "\n",
    "#loop through identifiers\n",
    "for identifier in record['IdList']:\n",
    "    \n",
    "    #get identifier info in xml format\n",
    "    handle = Entrez.efetch(db='nucleotide', id= identifier, rettype='fasta', retmode='xml')\n",
    "    resultXML = handle.read().decode()\n",
    "    #print(resultXML)\n",
    "    \n",
    "    #use ElementTree to parse XML document\n",
    "    tree = ET.ElementTree(ET.fromstring(resultXML))\n",
    "    root = tree.getroot()\n",
    "    \n",
    "    #retrieve sequence and accesion identifier\n",
    "    print((root.find('.//TSeq_defline')).text)\n",
    "    print((root.find('.//TSeq_accver')).text, end='\\n\\n')\n",
    "    "
   ]
  },
  {
   "cell_type": "markdown",
   "metadata": {},
   "source": [
    "<h3 style=\"color:#4FBAF7; font-family:courier;\">1.3 Retrieve a single GenBank entry</h3>"
   ]
  },
  {
   "cell_type": "code",
   "execution_count": 46,
   "metadata": {},
   "outputs": [
    {
     "name": "stdout",
     "output_type": "stream",
     "text": [
      "LOCUS       HUMBETGLA                468 bp    mRNA    linear   PRI 27-APR-1993\n",
      "DEFINITION  Human sickle cell beta-globin mRNA, complete cds.\n",
      "ACCESSION   M25079\n",
      "VERSION     M25079.1\n",
      "KEYWORDS    .\n",
      "SOURCE      Homo sapiens (human)\n",
      "  ORGANISM  Homo sapiens\n",
      "            Eukaryota; Metazoa; Chordata; Craniata; Vertebrata; Euteleostomi;\n",
      "            Mammalia; Eutheria; Euarchontoglires; Primates; Haplorrhini;\n",
      "            Catarrhini; Hominidae; Homo.\n",
      "REFERENCE   1  (bases 1 to 468)\n",
      "  AUTHORS   Marotta,C.A., Forget,B.G., Cohen-Solal,M. and Weissman,S.M.\n",
      "  TITLE     Nucleotide sequence analysis of coding and noncoding regions of\n",
      "            human beta-globin mRNA\n",
      "  JOURNAL   Prog. Nucleic Acid Res. Mol. Biol. 19, 165-175 (1976)\n",
      "   PUBMED   1019344\n",
      "COMMENT     Original source text: Human sickle cell, cDNA to mRNA.\n",
      "FEATURES             Location/Qualifiers\n",
      "     source          1..468\n",
      "                     /organism=\"Homo sapiens\"\n",
      "                     /mol_type=\"mRNA\"\n",
      "                     /db_xref=\"taxon:9606\"\n",
      "                     /cell_type=\"sickle cell\"\n",
      "     CDS             1..444\n",
      "                     /experiment=\"experimental evidence, no additional details\n",
      "                     recorded\"\n",
      "                     /codon_start=1\n",
      "                     /product=\"beta-globin\"\n",
      "                     /protein_id=\"AAA35597.1\"\n",
      "                     /translation=\"MVHXTPVEKSAVTALWGKVNVDEXGGEALGXLLVVYPWTQRFXX\n",
      "                     SFGDLXTPXAVMGNPKVKAHGKKVLGAFSDGLAHLDNLKGTFATLSELHCDKLHVDPE\n",
      "                     NFRLLGNVXVCVLAHHFGKEFTPPVXAAYQKVVAGVANALAHKYH\"\n",
      "ORIGIN      \n",
      "        1 atggtncayy tnacnccngt ggagaagtcy gcygtnacng cnctntgggg yaaggtnaay\n",
      "       61 gtggatgaag yyggyggyga ggccctgggc agnctgctng tggtctaccc ttggacccag\n",
      "      121 aggttcttng antcnttygg ggatctgnnn acnccngang cagttatggg caaccctaag\n",
      "      181 gtgaaggctc atggcaagaa agtgctcggt gcctttagtg atggcctggc tcacctggac\n",
      "      241 aacctcaagg gcacctttgc cacactgagt gagctgcact gtgacaagct ncaygtggat\n",
      "      301 cctgagaact tcaggctnct nggcaacgtg ytngtctgyg tgctggccca tcactttggc\n",
      "      361 aaagaattca ccccaccagt gcangcngcc tatcagaaag tggtngctgg tgtngctaat\n",
      "      421 gccctggccc acaagtatca ctaagctngc yttyttgytg tccaattt\n",
      "//\n",
      "\n",
      "\n"
     ]
    }
   ],
   "source": [
    "#retrieve a gb file with identifier\n",
    "handle = Entrez.efetch(db='nucleotide', id='M25079.1', rettype='gb', retmode='text')\n",
    "resultText = handle.read()\n",
    "print(resultText)"
   ]
  },
  {
   "cell_type": "markdown",
   "metadata": {},
   "source": [
    "<h3 style=\"color:#4FBAF7; font-family:courier;\">1.4 Write an output file</h3>"
   ]
  },
  {
   "cell_type": "code",
   "execution_count": 47,
   "metadata": {},
   "outputs": [],
   "source": [
    "# put the gb sickecell info into an output file\n",
    "with open('./sickle.gb','w') as fileHandler:\n",
    "    fileHandler.write(resultText)"
   ]
  },
  {
   "cell_type": "code",
   "execution_count": 48,
   "metadata": {},
   "outputs": [
    {
     "name": "stdout",
     "output_type": "stream",
     "text": [
      "LOCUS       HUMBETGLA                468 bp    mRNA    linear   PRI 27-APR-1993\n",
      "DEFINITION  Human sickle cell beta-globin mRNA, complete cds.\n",
      "ACCESSION   M25079\n",
      "VERSION     M25079.1\n",
      "KEYWORDS    .\n",
      "SOURCE      Homo sapiens (human)\n",
      "  ORGANISM  Homo sapiens\n",
      "            Eukaryota; Metazoa; Chordata; Craniata; Vertebrata; Euteleostomi;\n",
      "            Mammalia; Eutheria; Euarchontoglires; Primates; Haplorrhini;\n",
      "            Catarrhini; Hominidae; Homo.\n",
      "REFERENCE   1  (bases 1 to 468)\n",
      "  AUTHORS   Marotta,C.A., Forget,B.G., Cohen-Solal,M. and Weissman,S.M.\n",
      "  TITLE     Nucleotide sequence analysis of coding and noncoding regions of\n",
      "            human beta-globin mRNA\n",
      "  JOURNAL   Prog. Nucleic Acid Res. Mol. Biol. 19, 165-175 (1976)\n",
      "   PUBMED   1019344\n",
      "COMMENT     Original source text: Human sickle cell, cDNA to mRNA.\n",
      "FEATURES             Location/Qualifiers\n",
      "     source          1..468\n",
      "                     /organism=\"Homo sapiens\"\n",
      "                     /mol_type=\"mRNA\"\n",
      "                     /db_xref=\"taxon:9606\"\n",
      "                     /cell_type=\"sickle cell\"\n",
      "     CDS             1..444\n",
      "                     /experiment=\"experimental evidence, no additional details\n",
      "                     recorded\"\n",
      "                     /codon_start=1\n",
      "                     /product=\"beta-globin\"\n",
      "                     /protein_id=\"AAA35597.1\"\n",
      "                     /translation=\"MVHXTPVEKSAVTALWGKVNVDEXGGEALGXLLVVYPWTQRFXX\n",
      "                     SFGDLXTPXAVMGNPKVKAHGKKVLGAFSDGLAHLDNLKGTFATLSELHCDKLHVDPE\n",
      "                     NFRLLGNVXVCVLAHHFGKEFTPPVXAAYQKVVAGVANALAHKYH\"\n",
      "ORIGIN      \n",
      "        1 atggtncayy tnacnccngt ggagaagtcy gcygtnacng cnctntgggg yaaggtnaay\n",
      "       61 gtggatgaag yyggyggyga ggccctgggc agnctgctng tggtctaccc ttggacccag\n",
      "      121 aggttcttng antcnttygg ggatctgnnn acnccngang cagttatggg caaccctaag\n",
      "      181 gtgaaggctc atggcaagaa agtgctcggt gcctttagtg atggcctggc tcacctggac\n",
      "      241 aacctcaagg gcacctttgc cacactgagt gagctgcact gtgacaagct ncaygtggat\n",
      "      301 cctgagaact tcaggctnct nggcaacgtg ytngtctgyg tgctggccca tcactttggc\n",
      "      361 aaagaattca ccccaccagt gcangcngcc tatcagaaag tggtngctgg tgtngctaat\n",
      "      421 gccctggccc acaagtatca ctaagctngc yttyttgytg tccaattt\n",
      "//\n",
      "\n"
     ]
    }
   ],
   "source": [
    "%%bash\n",
    "less ./sickle.gb"
   ]
  },
  {
   "cell_type": "markdown",
   "metadata": {},
   "source": [
    "<h3 style=\"color:#4FBAF7; font-family:courier;\">1.5 Retrieve and write multiple GenBank entries</h3>"
   ]
  },
  {
   "cell_type": "code",
   "execution_count": 49,
   "metadata": {},
   "outputs": [],
   "source": [
    "def GetRecord(resultados, fileFormat):\n",
    "    '''\n",
    "    Esta funcion extrae las secuencias Fasta correspondientes a cada uno de los resultados de \n",
    "    una busqueda realizada.\n",
    "    :param resultados: Bio.Entrez.Parser.DictionaryElement, conjunto de resultados para una busqueda usando\n",
    "                       Entrez.\n",
    "    :return str, secuencia Fasta del objeto encontrado en la busqueda.\n",
    "    '''\n",
    "    \n",
    "    # Gets the search values\n",
    "    num_resultados = int(resultados['Count'])\n",
    "    webenv = resultados['WebEnv']\n",
    "    query_key = resultados['QueryKey']\n",
    "    lote = num_resultados\n",
    "\n",
    "    # start to extract the results in batches\n",
    "    for inicio in range(0, num_resultados, lote):\n",
    "        fin = min(num_resultados, inicio + lote)\n",
    "        \n",
    "        # Three attemps to extract the results\n",
    "        intento = 1\n",
    "        while intento <= 3:\n",
    "            try:\n",
    "                                \n",
    "                # Get results with Fasta format\n",
    "                fetch_handler= Entrez.efetch(db='nucleotide', rettype=fileFormat, retmode='text',\n",
    "                                             retstart=inicio, retmax=lote,\n",
    "                                             webenv=webenv, query_key=query_key)\n",
    "                break\n",
    "            \n",
    "            # In case of an error return it\n",
    "            except HTTPError as err:\n",
    "                \n",
    "                # If the error is from server, wait and try again\n",
    "                if 500 <= err.code <= 599:\n",
    "                    print('Error del servidor: {}'.format(err))\n",
    "                    print('Intento {} de 3'.format(intento))\n",
    "                    intento += 1\n",
    "                    time.sleep(15)\n",
    "                \n",
    "                # If the error isn't from server,stop and raise error\n",
    "                else:\n",
    "                    raise\n",
    "\n",
    "        # save results and return it\n",
    "        record = fetch_handler.read()\n",
    "        fetch_handler.close()\n",
    "        \n",
    "        return record\n",
    "    \n",
    "# open file to write sequences  \n",
    "out_handler = open('./entries.gb', 'w+')\n",
    "out_handler.write('')\n",
    "out_handler.close()   \n",
    "\n",
    "# search Homo sapiens beta-globing codings sequences\n",
    "searchHandler = Entrez.esearch(db='nucleotide',term='((beta-globin[Keyword]) AND Homo sapiens[Organism]) AND complete cds[TI] ', usehistory='y')\n",
    "searchResults = Entrez.read(searchHandler)\n",
    "\n",
    "#write sequences    \n",
    "with open('./entries.gb','a') as docEntriesGb:\n",
    "    docEntriesGb.write(GetRecord(searchResults,'gb'))\n",
    "    "
   ]
  },
  {
   "cell_type": "code",
   "execution_count": 50,
   "metadata": {},
   "outputs": [
    {
     "name": "stdout",
     "output_type": "stream",
     "text": [
      "LOCUS       AH001475                4355 bp    DNA     linear   PRI 10-JUN-2016\n",
      "DEFINITION  Homo sapiens beta-globin gene, complete cds.\n",
      "ACCESSION   AH001475 M34058 M34059\n",
      "VERSION     AH001475.2\n",
      "KEYWORDS    beta-globin.\n",
      "SOURCE      Homo sapiens (human)\n",
      "  ORGANISM  Homo sapiens\n",
      "            Eukaryota; Metazoa; Chordata; Craniata; Vertebrata; Euteleostomi;\n",
      "            Mammalia; Eutheria; Euarchontoglires; Primates; Haplorrhini;\n",
      "            Catarrhini; Hominidae; Homo.\n"
     ]
    }
   ],
   "source": [
    "%%bash\n",
    "head ./entries.gb"
   ]
  },
  {
   "cell_type": "markdown",
   "metadata": {},
   "source": [
    "<h3 style=\"color:#4FBAF7; font-family:courier;\">1.6 Optional Exercises</h3>\n",
    "<h4 style=\"color:#55D4ED; font-family:courier;\">1.6.1 Save the retrieved entries to a single FASTA file.</h4>"
   ]
  },
  {
   "cell_type": "code",
   "execution_count": 51,
   "metadata": {},
   "outputs": [],
   "source": [
    "# open new file \n",
    "out_handler = open('./entries.fasta', 'w+')\n",
    "out_handler.write('')\n",
    "out_handler.close()\n",
    "\n",
    "# write all entries in a single fasta\n",
    "with open('./entries.fasta','a') as docEntriesFasta:\n",
    "    docEntriesFasta.write(GetRecord(searchResults,'fasta'))"
   ]
  },
  {
   "cell_type": "code",
   "execution_count": 52,
   "metadata": {},
   "outputs": [
    {
     "name": "stdout",
     "output_type": "stream",
     "text": [
      ">AH001475.2 Homo sapiens beta-globin gene, complete cds\n",
      "TCTATTTATTTAGCAATAATAGAGAAAGCATTTAAGAGAATAAAGCAATGGAAATAAGAAATTTGTAAAT\n",
      "TTCCTTCTGATAACTAGAAATAGAGGATCCAGTTTCTTTTGGTTAACCTAAATTTTATTTCATTTTATTG\n",
      "TTTTATTTTATTTTATTTTATTTTATTTTATTTTGTGTAATCGTAGTTTCAGAGTGTTAGAGCTGAAAGG\n",
      "AAGAAGTAGGAGAAACATGCAAAGTAAAAGTATAACACTTTCCTTACTAAACCGACATGGGTTTCCAGGT\n",
      "AGGGGCAGGATTCAGGATGACTGACAGGGCCCTTAGGGAACACTGAGACCCTACGCTGACCTCATAAATG\n",
      "CTTGCTACCTTTGCTGTTTTAATTACATCTTTTAATAGCAGGAAGCAGAACTCTGCACTTCAAAAGTTTT\n",
      "TCCTCACCTGAGGAGTTAATTTAGTACAAGGGGAAAAAGTACAGGGGGATGGGAGAAAGGCGATCACGTT\n",
      "GGGAAGCTATAGAGAAAGAAGAGTAAATTTTAGTAAAGGAGGTTTAAACAAACAAAATATAAAGAGAAAT\n",
      "AGGAACTTGAATCAAGGAAATGATTTTAAAACGCAGTATTCTTAGTGGACTAGAGGAAAAAAATAATCTG\n"
     ]
    }
   ],
   "source": [
    "%%bash\n",
    "head ./entries.fasta"
   ]
  },
  {
   "cell_type": "markdown",
   "metadata": {},
   "source": [
    "<h4 style=\"color:#55D4ED; font-family:courier;\">1.6.2 Save each of the beta-globin sequences to a separate GenBank file.</h4>"
   ]
  },
  {
   "cell_type": "code",
   "execution_count": 54,
   "metadata": {},
   "outputs": [],
   "source": [
    "#Create directory\n",
    "#%%bash\n",
    "#mkdir betaglobin_gbfiles"
   ]
  },
  {
   "cell_type": "code",
   "execution_count": 55,
   "metadata": {},
   "outputs": [],
   "source": [
    "from Bio import SeqIO\n",
    "\n",
    "counter = 1\n",
    "\n",
    "# parse genebank file from 1.5 and get each sequence\n",
    "for gbRecord in SeqIO.parse('./entries.gb', 'genbank'):\n",
    "    \n",
    "    # write each sequence in defferent gb files\n",
    "    file = open(\"./betaglobin_gbfiles/globinRecord_{}.gb\".format(counter),\"w+\")\n",
    "    file.write(str(gbRecord))\n",
    "    counter += 1\n",
    "    file.close()\n",
    "        \n",
    "           "
   ]
  },
  {
   "cell_type": "code",
   "execution_count": 56,
   "metadata": {},
   "outputs": [
    {
     "name": "stdout",
     "output_type": "stream",
     "text": [
      "ID: AH001475.2\n",
      "Name: AH001475\n",
      "Description: Homo sapiens beta-globin gene, complete cds\n",
      "Number of features: 13\n",
      "/molecule_type=DNA\n",
      "/topology=linear\n",
      "/data_file_division=PRI\n",
      "/date=10-JUN-2016\n",
      "/accessions=['AH001475', 'M34058', 'M34059']\n",
      "/sequence_version=2\n"
     ]
    }
   ],
   "source": [
    "%%bash\n",
    "head ./betaglobin_gbfiles/globinRecord_1.gb"
   ]
  },
  {
   "cell_type": "markdown",
   "metadata": {},
   "source": [
    "<h4 style=\"color:#55D4ED; font-family:courier;\">1.6.3 Use Entrez to search 100 recent references related to malaria and sickle cell anemia on PubMed.</h4>"
   ]
  },
  {
   "cell_type": "code",
   "execution_count": 57,
   "metadata": {},
   "outputs": [
    {
     "data": {
      "text/plain": [
       "['33531281', '33524905', '33424841', '33261264', '33238928', '33180011', '33177908', '33008877', '32716940', '32697331', '32646433', '32614730', '32579813', '32491454', '32409247', '32391975', '32348635', '32334583', '32265284', '32211753', '32189304', '32183478', '32043441', '32019737', '31999737', '31959596', '31937250', '31933570', '31889707', '31815023', '31808910', '31794569', '31703724', '31692839', '31681984', '31656474', '31562022', '31546868', '31518428', '31470113', '31288760', '31167999', '31084943', '31037173', '31029083', '30923098', '30827499', '30787300', '30665411', '30658602', '30657108', '30605461', '30595467', '30578732', '30541465', '30501550', '30472238', '30455821', '30425067', '30411430', '30393954', '30344128', '30245824', '30222732', '30200838', '30178476', '30165857', '30145110', '30060095', '29946035', '29801034', '29749368', '29609623', '29607473', '29599243', '29588281', '29579313', '29524230', '29489205', '29408573', '29321025', '29318647', '29313430', '29310873', '29260650', '29242203', '29168218', '29127677', '29051184', '28992220', '28947801', '28927555', '28922657', '28834130', '28811305', '28810839', '28793894', '28768839', '28743191', '28671630']"
      ]
     },
     "execution_count": 57,
     "metadata": {},
     "output_type": "execute_result"
    }
   ],
   "source": [
    "# search articles related to an association between sickle cell anemia and malaria\n",
    "handle = Entrez.esearch(db=\"pubmed\", term=\"(malaria) AND (sickle cell anemia)\", retmax=100)\n",
    "record = Entrez.read(handle)\n",
    "\n",
    "record['IdList']"
   ]
  },
  {
   "cell_type": "markdown",
   "metadata": {},
   "source": [
    "<a id=\"Ejercicio_2\"></a>\n",
    "<h2 style=\"color:#5390E0; font-family:courier; background-color:#CCECFF;\">2. Bio.SeqIO - Reading, writing, and filtering sequence files</h2>\n",
    "<h3 style=\"color:#4FBAF7; font-family:courier;\">2.1 Read a GenBank file</h3>"
   ]
  },
  {
   "cell_type": "code",
   "execution_count": 58,
   "metadata": {},
   "outputs": [
    {
     "name": "stdout",
     "output_type": "stream",
     "text": [
      "ID: M25079.1\n",
      "Name: HUMBETGLA\n",
      "Description: Human sickle cell beta-globin mRNA, complete cds\n",
      "Number of features: 2\n",
      "/molecule_type=mRNA\n",
      "/topology=linear\n",
      "/data_file_division=PRI\n",
      "/date=27-APR-1993\n",
      "/accessions=['M25079']\n",
      "/sequence_version=1\n",
      "/keywords=['']\n",
      "/source=Homo sapiens (human)\n",
      "/organism=Homo sapiens\n",
      "/taxonomy=['Eukaryota', 'Metazoa', 'Chordata', 'Craniata', 'Vertebrata', 'Euteleostomi', 'Mammalia', 'Eutheria', 'Euarchontoglires', 'Primates', 'Haplorrhini', 'Catarrhini', 'Hominidae', 'Homo']\n",
      "/references=[Reference(title='Nucleotide sequence analysis of coding and noncoding regions of human beta-globin mRNA', ...)]\n",
      "/comment=Original source text: Human sickle cell, cDNA to mRNA.\n",
      "Seq('ATGGTNCAYYTNACNCCNGTGGAGAAGTCYGCYGTNACNGCNCTNTGGGGYAAG...TTT')\n"
     ]
    }
   ],
   "source": [
    "from Bio import SeqIO\n",
    "\n",
    "# read the sickle cell anemia genebank file\n",
    "for gbRecord in SeqIO.parse('./sickle.gb', 'genbank'):\n",
    "    print(gbRecord)"
   ]
  },
  {
   "cell_type": "markdown",
   "metadata": {},
   "source": [
    "<h3 style=\"color:#4FBAF7; font-family:courier;\">2.2 Print information for one sequence</h3>"
   ]
  },
  {
   "cell_type": "code",
   "execution_count": 59,
   "metadata": {},
   "outputs": [
    {
     "name": "stdout",
     "output_type": "stream",
     "text": [
      "M25079.1\n",
      "HUMBETGLA\n",
      "Human sickle cell beta-globin mRNA, complete cds\n"
     ]
    }
   ],
   "source": [
    "#parse sicle cell genebank file\n",
    "for gbRecord in SeqIO.parse('./sickle.gb', 'genbank'):\n",
    "    \n",
    "    #get sequence id, name and description\n",
    "    print(gbRecord.id)\n",
    "    print(gbRecord.name)\n",
    "    print(gbRecord.description)\n",
    "    sickleCell = gbRecord\n"
   ]
  },
  {
   "cell_type": "markdown",
   "metadata": {},
   "source": [
    "<h3 style=\"color:#4FBAF7; font-family:courier;\">2.3 Write a FASTA file</h3>"
   ]
  },
  {
   "cell_type": "code",
   "execution_count": 60,
   "metadata": {},
   "outputs": [
    {
     "data": {
      "text/plain": [
       "1"
      ]
     },
     "execution_count": 60,
     "metadata": {},
     "output_type": "execute_result"
    }
   ],
   "source": [
    "# write sickle cell anemia info in fasta file format\n",
    "SeqIO.write(gbRecord, './file_ex2.fasta', 'fasta')\n"
   ]
  },
  {
   "cell_type": "code",
   "execution_count": 61,
   "metadata": {},
   "outputs": [
    {
     "name": "stdout",
     "output_type": "stream",
     "text": [
      ">M25079.1 Human sickle cell beta-globin mRNA, complete cds\n",
      "ATGGTNCAYYTNACNCCNGTGGAGAAGTCYGCYGTNACNGCNCTNTGGGGYAAGGTNAAY\n",
      "GTGGATGAAGYYGGYGGYGAGGCCCTGGGCAGNCTGCTNGTGGTCTACCCTTGGACCCAG\n",
      "AGGTTCTTNGANTCNTTYGGGGATCTGNNNACNCCNGANGCAGTTATGGGCAACCCTAAG\n",
      "GTGAAGGCTCATGGCAAGAAAGTGCTCGGTGCCTTTAGTGATGGCCTGGCTCACCTGGAC\n",
      "AACCTCAAGGGCACCTTTGCCACACTGAGTGAGCTGCACTGTGACAAGCTNCAYGTGGAT\n",
      "CCTGAGAACTTCAGGCTNCTNGGCAACGTGYTNGTCTGYGTGCTGGCCCATCACTTTGGC\n",
      "AAAGAATTCACCCCACCAGTGCANGCNGCCTATCAGAAAGTGGTNGCTGGTGTNGCTAAT\n",
      "GCCCTGGCCCACAAGTATCACTAAGCTNGCYTTYTTGYTGTCCAATTT\n"
     ]
    }
   ],
   "source": [
    "%%bash\n",
    "less ./file_ex2.fasta"
   ]
  },
  {
   "cell_type": "markdown",
   "metadata": {},
   "source": [
    "<h3 style=\"color:#4FBAF7; font-family:courier;\">2.4 Print information for multiple sequences</h3>"
   ]
  },
  {
   "cell_type": "code",
   "execution_count": 62,
   "metadata": {},
   "outputs": [
    {
     "name": "stdout",
     "output_type": "stream",
     "text": [
      "AH001475.2\n",
      "AH001475\n",
      "Homo sapiens beta-globin gene, complete cds\n",
      "\n",
      "L26478.1\n",
      "HUMBETGLOR\n",
      "Human haplotype D3 beta-globin gene, complete cds\n",
      "\n",
      "L26477.1\n",
      "HUMBETGLOP\n",
      "Human haplotype D2 beta-globin gene, complete cds\n",
      "\n",
      "L26476.1\n",
      "HUMBETGLOO\n",
      "Human haplotype D1 beta-globin gene, complete cds\n",
      "\n",
      "L26475.1\n",
      "HUMBETGLON\n",
      "Human haplotype C2 beta-globin gene, complete cds\n",
      "\n",
      "L26474.1\n",
      "HUMBETGLOM\n",
      "Human haplotype C3 beta-globin gene, complete cds\n",
      "\n",
      "L26473.1\n",
      "HUMBETGLOL\n",
      "Human haplotype C1 beta-globin gene, complete cds\n",
      "\n",
      "L26472.1\n",
      "HUMBETGLOK\n",
      "Human haplotype B6 beta-globin gene, complete cds\n",
      "\n",
      "L26471.1\n",
      "HUMBETGLOJ\n",
      "Human haplotype B5 beta-globin gene, complete cds\n",
      "\n",
      "L26470.1\n",
      "HUMBETGLOI\n",
      "Human haplotype B4 beta-globin gene, complete cds\n",
      "\n",
      "L26469.1\n",
      "HUMBETGLOH\n",
      "Human haplotype B3 beta-globin gene, complete cds\n",
      "\n",
      "L26468.1\n",
      "HUMBETGLOG\n",
      "Human haplotype B2 beta-globin gene, complete cds\n",
      "\n",
      "L26467.1\n",
      "HUMBETGLOF\n",
      "Human haplotype B1 beta-globin gene, complete cds\n",
      "\n",
      "L26466.1\n",
      "HUMBETGLOE\n",
      "Human haplotype A4 beta-globin gene, complete cds\n",
      "\n",
      "L26465.1\n",
      "HUMBETGLOD\n",
      "Human haplotype A3 beta-globin gene, complete cds\n",
      "\n",
      "L26464.1\n",
      "HUMBETGLOC\n",
      "Human haplotype A2 beta-globin gene, complete cds\n",
      "\n",
      "L26463.1\n",
      "HUMBETGLOB\n",
      "Human haplotype A1 beta-globin gene, complete cds\n",
      "\n",
      "L26462.1\n",
      "HUMBETGLOA\n",
      "Human haplotype C4 beta-globin gene, complete cds\n",
      "\n"
     ]
    }
   ],
   "source": [
    "#loop through the sequences in the sickle cell anemia gene bank file\n",
    "for gbRecord in SeqIO.parse('./entries.gb', 'genbank'):\n",
    "    \n",
    "    #get id, name, and description of all human beta-globins\n",
    "    print(gbRecord.id)\n",
    "    print(gbRecord.name)\n",
    "    print(gbRecord.description, end='\\n\\n')"
   ]
  },
  {
   "cell_type": "markdown",
   "metadata": {},
   "source": [
    "<h3 style=\"color:#4FBAF7; font-family:courier;\">2.5 Filtering sequence entries</h3>"
   ]
  },
  {
   "cell_type": "code",
   "execution_count": 63,
   "metadata": {},
   "outputs": [
    {
     "name": "stdout",
     "output_type": "stream",
     "text": [
      "AH001475.2\n",
      "AH001475\n",
      "Homo sapiens beta-globin gene, complete cds\n",
      "\n",
      "L26478.1\n",
      "HUMBETGLOR\n",
      "Human haplotype D3 beta-globin gene, complete cds\n",
      "\n",
      "L26477.1\n",
      "HUMBETGLOP\n",
      "Human haplotype D2 beta-globin gene, complete cds\n",
      "\n",
      "L26476.1\n",
      "HUMBETGLOO\n",
      "Human haplotype D1 beta-globin gene, complete cds\n",
      "\n",
      "L26475.1\n",
      "HUMBETGLON\n",
      "Human haplotype C2 beta-globin gene, complete cds\n",
      "\n",
      "L26474.1\n",
      "HUMBETGLOM\n",
      "Human haplotype C3 beta-globin gene, complete cds\n",
      "\n",
      "L26473.1\n",
      "HUMBETGLOL\n",
      "Human haplotype C1 beta-globin gene, complete cds\n",
      "\n",
      "L26472.1\n",
      "HUMBETGLOK\n",
      "Human haplotype B6 beta-globin gene, complete cds\n",
      "\n",
      "L26471.1\n",
      "HUMBETGLOJ\n",
      "Human haplotype B5 beta-globin gene, complete cds\n",
      "\n",
      "L26470.1\n",
      "HUMBETGLOI\n",
      "Human haplotype B4 beta-globin gene, complete cds\n",
      "\n",
      "L26469.1\n",
      "HUMBETGLOH\n",
      "Human haplotype B3 beta-globin gene, complete cds\n",
      "\n",
      "L26468.1\n",
      "HUMBETGLOG\n",
      "Human haplotype B2 beta-globin gene, complete cds\n",
      "\n",
      "L26467.1\n",
      "HUMBETGLOF\n",
      "Human haplotype B1 beta-globin gene, complete cds\n",
      "\n",
      "L26466.1\n",
      "HUMBETGLOE\n",
      "Human haplotype A4 beta-globin gene, complete cds\n",
      "\n",
      "L26465.1\n",
      "HUMBETGLOD\n",
      "Human haplotype A3 beta-globin gene, complete cds\n",
      "\n",
      "L26464.1\n",
      "HUMBETGLOC\n",
      "Human haplotype A2 beta-globin gene, complete cds\n",
      "\n",
      "L26463.1\n",
      "HUMBETGLOB\n",
      "Human haplotype A1 beta-globin gene, complete cds\n",
      "\n",
      "L26462.1\n",
      "HUMBETGLOA\n",
      "Human haplotype C4 beta-globin gene, complete cds\n",
      "\n"
     ]
    }
   ],
   "source": [
    "import re\n",
    "\n",
    "#loop through the sequences in the sickle cell anemia gene bank file\n",
    "for gbRecord in SeqIO.parse('./entries.gb', 'genbank'):\n",
    "    \n",
    "    # don't show non-globin entries, ignore vector or isolate entries\n",
    "    if not re.search('(isolate)|(vector)', gbRecord.description) and re.search('globin', gbRecord.description):\n",
    "        \n",
    "        # get id,name and description\n",
    "        print(gbRecord.id)\n",
    "        print(gbRecord.name)\n",
    "        print(gbRecord.description, end='\\n\\n')"
   ]
  },
  {
   "cell_type": "markdown",
   "metadata": {},
   "source": [
    "<h3 style=\"color:#4FBAF7; font-family:courier;\">2.6 Optional Exercises</h3>\n",
    "<h4 style=\"color:#55D4ED; font-family:courier;\">2.6.1 Collect the entries matching all criteria in a new list</h4>"
   ]
  },
  {
   "cell_type": "code",
   "execution_count": 64,
   "metadata": {},
   "outputs": [
    {
     "name": "stdout",
     "output_type": "stream",
     "text": [
      "[SeqRecord(seq=Seq('TCTATTTATTTAGCAATAATAGAGAAAGCATTTAAGAGAATAAAGCAATGGAAA...AAA'), id='AH001475.2', name='AH001475', description='Homo sapiens beta-globin gene, complete cds', dbxrefs=[]), SeqRecord(seq=Seq('ACCTCCTATTTGACACCACTGATTACCCCATTGATAGTCACACTTTGGGTTGTA...ATC'), id='L26478.1', name='HUMBETGLOR', description='Human haplotype D3 beta-globin gene, complete cds', dbxrefs=[]), SeqRecord(seq=Seq('ACCTCCTATTTGACACCACTGATTACCCCATTGATAGTCACACTTTGGGTTGTA...ATC'), id='L26477.1', name='HUMBETGLOP', description='Human haplotype D2 beta-globin gene, complete cds', dbxrefs=[]), SeqRecord(seq=Seq('ACCTCCTATTTGACACCACTGATTACCCCATTGATAGTCACACTTTGGGTTGTA...ATC'), id='L26476.1', name='HUMBETGLOO', description='Human haplotype D1 beta-globin gene, complete cds', dbxrefs=[]), SeqRecord(seq=Seq('ACCTCCTATTTGACACCACTGATTACCCCATTGATAGTCACACTTTGGGTTGTA...ATC'), id='L26475.1', name='HUMBETGLON', description='Human haplotype C2 beta-globin gene, complete cds', dbxrefs=[]), SeqRecord(seq=Seq('ACCTCCTATTTGACACCACTGATTACCCCATTGATAGTCACACTTTGGGTTGTA...ATC'), id='L26474.1', name='HUMBETGLOM', description='Human haplotype C3 beta-globin gene, complete cds', dbxrefs=[]), SeqRecord(seq=Seq('ACCTCCTATTTGACACCACTGATTACCCCATTGATAGTCACACTTTGGGTTGTA...ATC'), id='L26473.1', name='HUMBETGLOL', description='Human haplotype C1 beta-globin gene, complete cds', dbxrefs=[]), SeqRecord(seq=Seq('ACCTCCTATTTGACACCACTGATTACCCCATTGATAGTCACACTTTGGGTTGTA...ATC'), id='L26472.1', name='HUMBETGLOK', description='Human haplotype B6 beta-globin gene, complete cds', dbxrefs=[]), SeqRecord(seq=Seq('ACCTCCTATTTGACACCACTGATTACCCCATTGATAGTCACACTTTGGGTTGTA...ATC'), id='L26471.1', name='HUMBETGLOJ', description='Human haplotype B5 beta-globin gene, complete cds', dbxrefs=[]), SeqRecord(seq=Seq('ACCTCCTATTTGACACCACTGATTACCCCATTGATAGTCACACTTTGGGTTGTA...ATC'), id='L26470.1', name='HUMBETGLOI', description='Human haplotype B4 beta-globin gene, complete cds', dbxrefs=[]), SeqRecord(seq=Seq('ACCTCCTATTTGACACCACTGATTACCCCATTGATAGTCACACTTTGGGTTGTA...ATC'), id='L26469.1', name='HUMBETGLOH', description='Human haplotype B3 beta-globin gene, complete cds', dbxrefs=[]), SeqRecord(seq=Seq('ACCTCCTATTTGACACCACTGATTACCCCATTGATAGTCACACTTTGGGTTGTA...ATC'), id='L26468.1', name='HUMBETGLOG', description='Human haplotype B2 beta-globin gene, complete cds', dbxrefs=[]), SeqRecord(seq=Seq('ACCTCCTATTTGACACCACTGATTACCCCATTGATAGTCACACTTTGGGTTGTA...ATC'), id='L26467.1', name='HUMBETGLOF', description='Human haplotype B1 beta-globin gene, complete cds', dbxrefs=[]), SeqRecord(seq=Seq('ACCTCCTATTTGACACCACTGATTACCCCATTGATAGTCACACTTTGGGTTGTA...ATC'), id='L26466.1', name='HUMBETGLOE', description='Human haplotype A4 beta-globin gene, complete cds', dbxrefs=[]), SeqRecord(seq=Seq('ACCTCCTATTTGACACCACTGATTACCCCATTGATAGTCACACTTTGGGTTGTA...ATC'), id='L26465.1', name='HUMBETGLOD', description='Human haplotype A3 beta-globin gene, complete cds', dbxrefs=[]), SeqRecord(seq=Seq('ACCTCCTATTTGACACCACTGATTACCCCATTGATAGTCACACTTTGGGTTGTA...ATC'), id='L26464.1', name='HUMBETGLOC', description='Human haplotype A2 beta-globin gene, complete cds', dbxrefs=[]), SeqRecord(seq=Seq('ACCTCCTATTTGACACCACTGATTACCCCATTGATAGTCACACTTTGGGTTGTA...ATC'), id='L26463.1', name='HUMBETGLOB', description='Human haplotype A1 beta-globin gene, complete cds', dbxrefs=[]), SeqRecord(seq=Seq('ACCTCCTATTTGACACCACTGATTACCCCATTGATAGTCACACTTTGGGTTGTA...ATC'), id='L26462.1', name='HUMBETGLOA', description='Human haplotype C4 beta-globin gene, complete cds', dbxrefs=[])]\n"
     ]
    }
   ],
   "source": [
    "gbs = []\n",
    "\n",
    "# loop through the sequences in the sickle cell anemia gene bank file\n",
    "for gbRecord in SeqIO.parse('./entries.gb', 'genbank'):\n",
    "    \n",
    "    # ignore vector and isolate entries\n",
    "    if not re.search('(isolate)|(vector)', gbRecord.description) and re.search('globin', gbRecord.description):\n",
    "        \n",
    "        #append genebank object into a list\n",
    "        gbs.append(gbRecord)\n",
    "print(gbs)"
   ]
  },
  {
   "cell_type": "markdown",
   "metadata": {},
   "source": [
    "<h4 style=\"color:#55D4ED; font-family:courier;\">2.6.2 Save the filtered list to a FASTA file</h4>"
   ]
  },
  {
   "cell_type": "code",
   "execution_count": 65,
   "metadata": {},
   "outputs": [],
   "source": [
    "#open new fasta file\n",
    "out_handler = open('./filter_globin.fasta', 'w+')\n",
    "out_handler.write('')\n",
    "out_handler.close()\n",
    "\n",
    "\n",
    "with open('./filter_globin.fasta','a') as docEntriesFasta:\n",
    "    \n",
    "    #loop through the list sequences\n",
    "    for gbRecord in gbs:\n",
    "        \n",
    "        # write sequence and info into the fasta file\n",
    "        SeqIO.write(gbRecord, docEntriesFasta, \"fasta\")"
   ]
  },
  {
   "cell_type": "code",
   "execution_count": 66,
   "metadata": {},
   "outputs": [
    {
     "name": "stdout",
     "output_type": "stream",
     "text": [
      ">AH001475.2 Homo sapiens beta-globin gene, complete cds\n",
      "TCTATTTATTTAGCAATAATAGAGAAAGCATTTAAGAGAATAAAGCAATGGAAATAAGAA\n",
      "ATTTGTAAATTTCCTTCTGATAACTAGAAATAGAGGATCCAGTTTCTTTTGGTTAACCTA\n",
      "AATTTTATTTCATTTTATTGTTTTATTTTATTTTATTTTATTTTATTTTATTTTGTGTAA\n",
      "TCGTAGTTTCAGAGTGTTAGAGCTGAAAGGAAGAAGTAGGAGAAACATGCAAAGTAAAAG\n",
      "TATAACACTTTCCTTACTAAACCGACATGGGTTTCCAGGTAGGGGCAGGATTCAGGATGA\n",
      "CTGACAGGGCCCTTAGGGAACACTGAGACCCTACGCTGACCTCATAAATGCTTGCTACCT\n",
      "TTGCTGTTTTAATTACATCTTTTAATAGCAGGAAGCAGAACTCTGCACTTCAAAAGTTTT\n",
      "TCCTCACCTGAGGAGTTAATTTAGTACAAGGGGAAAAAGTACAGGGGGATGGGAGAAAGG\n",
      "CGATCACGTTGGGAAGCTATAGAGAAAGAAGAGTAAATTTTAGTAAAGGAGGTTTAAACA\n"
     ]
    }
   ],
   "source": [
    "%%bash\n",
    "head ./filter_globin.fasta"
   ]
  },
  {
   "cell_type": "markdown",
   "metadata": {},
   "source": [
    "<h4 style=\"color:#55D4ED; font-family:courier;\">2.6.3 Filter the list of sequence entries even further using your own criteria</h4>"
   ]
  },
  {
   "cell_type": "code",
   "execution_count": 67,
   "metadata": {},
   "outputs": [
    {
     "name": "stdout",
     "output_type": "stream",
     "text": [
      "L26478.1\n",
      "L26477.1\n",
      "L26476.1\n",
      "L26475.1\n",
      "L26474.1\n",
      "L26473.1\n",
      "L26472.1\n",
      "L26471.1\n",
      "L26470.1\n",
      "L26469.1\n",
      "L26468.1\n",
      "L26467.1\n",
      "L26466.1\n",
      "L26465.1\n",
      "L26464.1\n",
      "L26463.1\n",
      "L26462.1\n"
     ]
    }
   ],
   "source": [
    "\n",
    "#Filter those sequence entries that start with L\n",
    "for gbRecord in gbs:\n",
    "    if (gbRecord.id).startswith(\"L\"):\n",
    "        print(gbRecord.id)"
   ]
  },
  {
   "cell_type": "markdown",
   "metadata": {},
   "source": [
    "<a id=\"Ejercicio_3\"></a>\n",
    "<h2 style=\"color:#5390E0; font-family:courier; background-color:#CCECFF;\">3. Bio.Seq and Bio.SeqRecord - Working with sequences</h2>\n",
    "<h3 style=\"color:#4FBAF7; font-family:courier;\">3.1 The DNA sequence</h3>"
   ]
  },
  {
   "cell_type": "code",
   "execution_count": 68,
   "metadata": {},
   "outputs": [
    {
     "name": "stdout",
     "output_type": "stream",
     "text": [
      "ATGGTNCAYYTNACNCCNGTGGAGAAGTCYGCYGTNACNGCNCTNTGGGGYAAGGTNAAYGTGGATGAAGYYGGYGGYGAGGCCCTGGGCAGNCTGCTNGTGGTCTACCCTTGGACCCAGAGGTTCTTNGANTCNTTYGGGGATCTGNNNACNCCNGANGCAGTTATGGGCAACCCTAAGGTGAAGGCTCATGGCAAGAAAGTGCTCGGTGCCTTTAGTGATGGCCTGGCTCACCTGGACAACCTCAAGGGCACCTTTGCCACACTGAGTGAGCTGCACTGTGACAAGCTNCAYGTGGATCCTGAGAACTTCAGGCTNCTNGGCAACGTGYTNGTCTGYGTGCTGGCCCATCACTTTGGCAAAGAATTCACCCCACCAGTGCANGCNGCCTATCAGAAAGTGGTNGCTGGTGTNGCTAATGCCCTGGCCCACAAGTATCACTAAGCTNGCYTTYTTGYTGTCCAATTT\n"
     ]
    }
   ],
   "source": [
    "#get nucleotide sequence from genebank object\n",
    "seqSickle = sickleCell.seq\n",
    "print(seqSickle)\n"
   ]
  },
  {
   "cell_type": "markdown",
   "metadata": {},
   "source": [
    "<h3 style=\"color:#4FBAF7; font-family:courier;\">3.2 Transcribe DNA to RNA</h3>"
   ]
  },
  {
   "cell_type": "code",
   "execution_count": 69,
   "metadata": {},
   "outputs": [
    {
     "name": "stdout",
     "output_type": "stream",
     "text": [
      "AUGGUNCAYYUNACNCCNGUGGAGAAGUCYGCYGUNACNGCNCUNUGGGGYAAGGUNAAYGUGGAUGAAGYYGGYGGYGAGGCCCUGGGCAGNCUGCUNGUGGUCUACCCUUGGACCCAGAGGUUCUUNGANUCNUUYGGGGAUCUGNNNACNCCNGANGCAGUUAUGGGCAACCCUAAGGUGAAGGCUCAUGGCAAGAAAGUGCUCGGUGCCUUUAGUGAUGGCCUGGCUCACCUGGACAACCUCAAGGGCACCUUUGCCACACUGAGUGAGCUGCACUGUGACAAGCUNCAYGUGGAUCCUGAGAACUUCAGGCUNCUNGGCAACGUGYUNGUCUGYGUGCUGGCCCAUCACUUUGGCAAAGAAUUCACCCCACCAGUGCANGCNGCCUAUCAGAAAGUGGUNGCUGGUGUNGCUAAUGCCCUGGCCCACAAGUAUCACUAAGCUNGCYUUYUUGYUGUCCAAUUU\n"
     ]
    }
   ],
   "source": [
    "#use the biopython function for transcribe DNA sickle cell sequence \n",
    "rnaSickle = seqSickle.transcribe()\n",
    "print(rnaSickle)"
   ]
  },
  {
   "cell_type": "markdown",
   "metadata": {},
   "source": [
    "<h3 style=\"color:#4FBAF7; font-family:courier;\">3.3 Translate RNA to protein</h3>"
   ]
  },
  {
   "cell_type": "code",
   "execution_count": 70,
   "metadata": {},
   "outputs": [
    {
     "name": "stdout",
     "output_type": "stream",
     "text": [
      "MVHXTPVEKSAVTALWGKVNVDEXGGEALGXLLVVYPWTQRFXXSFGDLXTPXAVMGNPKVKAHGKKVLGAFSDGLAHLDNLKGTFATLSELHCDKLHVDPENFRLLGNVXVCVLAHHFGKEFTPPVXAAYQKVVAGVANALAHKYH\n"
     ]
    }
   ],
   "source": [
    "#use the biopython function for translate RNA sickle cell transcript\n",
    "protSickle = rnaSickle.translate(to_stop=True)\n",
    "print(protSickle)"
   ]
  },
  {
   "cell_type": "markdown",
   "metadata": {},
   "source": [
    "<h3 style=\"color:#4FBAF7; font-family:courier;\">3.4 Analyze annotations of beta-globin</h3>"
   ]
  },
  {
   "cell_type": "code",
   "execution_count": 71,
   "metadata": {},
   "outputs": [],
   "source": [
    "#open file of beta-globins.\n",
    "with open ('./L26462.gb', 'w+') as handler:\n",
    "    \n",
    "    #loop through all globins\n",
    "    for gbRecord in SeqIO.parse('./entries.gb', 'genbank'):\n",
    "        access = gbRecord.annotations['accessions']\n",
    "        \n",
    "        #search beta-globin with accesion L26462\n",
    "        if access[0] == 'L26462':\n",
    "            L26462 = gbRecord\n",
    "            handler.write(str(L26462))\n",
    "        "
   ]
  },
  {
   "cell_type": "code",
   "execution_count": 72,
   "metadata": {},
   "outputs": [
    {
     "name": "stdout",
     "output_type": "stream",
     "text": [
      "ID: L26462.1\n",
      "Name: HUMBETGLOA\n",
      "Description: Human haplotype C4 beta-globin gene, complete cds\n",
      "Number of features: 26\n",
      "/molecule_type=DNA\n",
      "/topology=linear\n",
      "/data_file_division=PRI\n",
      "/date=26-AUG-1994\n",
      "/accessions=['L26462']\n",
      "/sequence_version=1\n",
      "/keywords=['beta-globin']\n",
      "/source=Homo sapiens (human)\n",
      "/organism=Homo sapiens\n",
      "/taxonomy=['Eukaryota', 'Metazoa', 'Chordata', 'Craniata', 'Vertebrata', 'Euteleostomi', 'Mammalia', 'Eutheria', 'Euarchontoglires', 'Primates', 'Haplorrhini', 'Catarrhini', 'Hominidae', 'Homo']\n",
      "/references=[Reference(title='Molecular and population genetic analysis of allelic sequence diversity at the human beta-globin locus', ...)]\n",
      "Seq('ACCTCCTATTTGACACCACTGATTACCCCATTGATAGTCACACTTTGGGTTGTA...ATC')"
     ]
    }
   ],
   "source": [
    "%%bash\n",
    "less ./L26462.gb"
   ]
  },
  {
   "cell_type": "markdown",
   "metadata": {},
   "source": [
    "<h3 style=\"color:#4FBAF7; font-family:courier;\">3.5 Extract sequence features</h3>"
   ]
  },
  {
   "cell_type": "code",
   "execution_count": 73,
   "metadata": {},
   "outputs": [
    {
     "name": "stdout",
     "output_type": "stream",
     "text": [
      "[SeqFeature(FeatureLocation(ExactPosition(0), ExactPosition(3002), strand=1), type='source'), SeqFeature(FeatureLocation(ExactPosition(110), ExactPosition(111), strand=1), type='variation'), SeqFeature(FeatureLocation(ExactPosition(262), ExactPosition(263), strand=1), type='variation'), SeqFeature(FeatureLocation(ExactPosition(272), ExactPosition(273), strand=1), type='variation'), SeqFeature(FeatureLocation(ExactPosition(285), ExactPosition(287), strand=1), type='variation'), SeqFeature(FeatureLocation(ExactPosition(287), ExactPosition(288), strand=1), type='variation'), SeqFeature(FeatureLocation(ExactPosition(294), ExactPosition(296), strand=1), type='variation'), SeqFeature(FeatureLocation(ExactPosition(346), ExactPosition(347), strand=1), type='variation'), SeqFeature(FeatureLocation(ExactPosition(475), ExactPosition(476), strand=1), type='variation'), SeqFeature(FeatureLocation(ExactPosition(499), ExactPosition(500), strand=1), type='variation'), SeqFeature(CompoundLocation([FeatureLocation(ExactPosition(865), ExactPosition(957), strand=1), FeatureLocation(ExactPosition(1087), ExactPosition(1310), strand=1), FeatureLocation(ExactPosition(2160), ExactPosition(2289), strand=1)], 'join'), type='CDS', location_operator='join'), SeqFeature(FeatureLocation(BeforePosition(865), ExactPosition(957), strand=1), type='exon'), SeqFeature(FeatureLocation(ExactPosition(873), ExactPosition(874), strand=1), type='variation'), SeqFeature(FeatureLocation(ExactPosition(957), ExactPosition(1087), strand=1), type='intron'), SeqFeature(FeatureLocation(ExactPosition(1087), ExactPosition(1310), strand=1), type='exon'), SeqFeature(FeatureLocation(ExactPosition(1310), ExactPosition(2160), strand=1), type='intron'), SeqFeature(FeatureLocation(ExactPosition(1325), ExactPosition(1326), strand=1), type='variation'), SeqFeature(FeatureLocation(ExactPosition(1383), ExactPosition(1384), strand=1), type='variation'), SeqFeature(FeatureLocation(ExactPosition(1390), ExactPosition(1391), strand=1), type='variation'), SeqFeature(FeatureLocation(ExactPosition(1975), ExactPosition(1976), strand=1), type='variation'), SeqFeature(FeatureLocation(ExactPosition(2160), AfterPosition(2289), strand=1), type='exon'), SeqFeature(FeatureLocation(ExactPosition(2521), ExactPosition(2522), strand=1), type='variation'), SeqFeature(FeatureLocation(ExactPosition(2601), ExactPosition(2602), strand=1), type='variation'), SeqFeature(FeatureLocation(ExactPosition(2603), ExactPosition(2604), strand=1), type='variation'), SeqFeature(FeatureLocation(ExactPosition(2759), ExactPosition(2760), strand=1), type='variation'), SeqFeature(FeatureLocation(ExactPosition(2912), ExactPosition(2913), strand=1), type='variation')]\n"
     ]
    }
   ],
   "source": [
    "#access into sequence features with the field r.features\n",
    "print(L26462.features)"
   ]
  },
  {
   "cell_type": "markdown",
   "metadata": {},
   "source": [
    "<h3 style=\"color:#4FBAF7; font-family:courier;\">3.6 Extract exons</h3>"
   ]
  },
  {
   "cell_type": "code",
   "execution_count": 74,
   "metadata": {},
   "outputs": [
    {
     "name": "stdout",
     "output_type": "stream",
     "text": [
      "type: exon\n",
      "location: [<865:957](+)\n",
      "qualifiers:\n",
      "    Key: number, Value: ['1']\n",
      "\n",
      "\tstart:  <865\n",
      "\tend:  957\n",
      "\tnofuzzy_start:  865\n",
      "\tnofuzzy_end:  957\n",
      "ATGGTGCATCTGACTCCTGAGGAGAAGTCTGCCGTTACTGCCCTGTGGGGCAAGGTGAACGTGGATGAAGTTGGTGGTGAGGCCCTGGGCAG\n",
      "--------------------\n",
      "type: exon\n",
      "location: [1087:1310](+)\n",
      "qualifiers:\n",
      "    Key: number, Value: ['2']\n",
      "\n",
      "\tstart:  1087\n",
      "\tend:  1310\n",
      "\tnofuzzy_start:  1087\n",
      "\tnofuzzy_end:  1310\n",
      "GCTGCTGGTGGTCTACCCTTGGACCCAGAGGTTCTTTGAGTCCTTTGGGGATCTGTCCACTCCTGATGCTGTTATGGGCAACCCTAAGGTGAAGGCTCATGGCAAGAAAGTGCTCGGTGCCTTTAGTGATGGCCTGGCTCACCTGGACAACCTCAAGGGCACCTTTGCCACACTGAGTGAGCTGCACTGTGACAAGCTGCACGTGGATCCTGAGAACTTCAGG\n",
      "--------------------\n",
      "type: exon\n",
      "location: [2160:>2289](+)\n",
      "qualifiers:\n",
      "    Key: number, Value: ['3']\n",
      "\n",
      "\tstart:  2160\n",
      "\tend:  >2289\n",
      "\tnofuzzy_start:  2160\n",
      "\tnofuzzy_end:  2289\n",
      "CTCCTGGGCAACGTGCTGGTCTGTGTGCTGGCCCATCACTTTGGCAAAGAATTCACCCCACCAGTGCAGGCTGCCTATCAGAAAGTGGTGGCTGGTGTGGCTAATGCCCTGGCCCACAAGTATCACTAA\n",
      "--------------------\n",
      "ATGGTGCATCTGACTCCTGAGGAGAAGTCTGCCGTTACTGCCCTGTGGGGCAAGGTGAACGTGGATGAAGTTGGTGGTGAGGCCCTGGGCAGGCTGCTGGTGGTCTACCCTTGGACCCAGAGGTTCTTTGAGTCCTTTGGGGATCTGTCCACTCCTGATGCTGTTATGGGCAACCCTAAGGTGAAGGCTCATGGCAAGAAAGTGCTCGGTGCCTTTAGTGATGGCCTGGCTCACCTGGACAACCTCAAGGGCACCTTTGCCACACTGAGTGAGCTGCACTGTGACAAGCTGCACGTGGATCCTGAGAACTTCAGGCTCCTGGGCAACGTGCTGGTCTGTGTGCTGGCCCATCACTTTGGCAAAGAATTCACCCCACCAGTGCAGGCTGCCTATCAGAAAGTGGTGGCTGGTGTGGCTAATGCCCTGGCCCACAAGTATCACTAA\n"
     ]
    }
   ],
   "source": [
    "#initialize empty string\n",
    "completeExon = ''\n",
    "\n",
    "#loop through sequence features \n",
    "for feature in L26462.features:\n",
    "    \n",
    "    #filter exons\n",
    "    if feature.type == 'exon':\n",
    "        print(feature)\n",
    "        \n",
    "        #get start and end exon positions\n",
    "        print('\\tstart: ',feature.location.start)\n",
    "        print('\\tend: ',feature.location.end)\n",
    "        \n",
    "        #use nofuzzy function for extract the interval\n",
    "        print('\\tnofuzzy_start: ',feature.location.nofuzzy_start)\n",
    "        nfStart = feature.location.nofuzzy_start\n",
    "        print('\\tnofuzzy_end: ',feature.location.nofuzzy_end)\n",
    "        nfEnd = feature.location.nofuzzy_end\n",
    "        \n",
    "        #get the exon by indexing the start and end positions\n",
    "        exon = L26462.seq[nfStart:nfEnd]\n",
    "        print(exon, end='\\n--------------------\\n')\n",
    "        \n",
    "        #paste all exons to get the healthy globin sequence\n",
    "        completeExon += exon\n",
    "\n",
    "print(completeExon)"
   ]
  },
  {
   "cell_type": "markdown",
   "metadata": {},
   "source": [
    "<h3 style=\"color:#4FBAF7; font-family:courier;\">3.7 Extract the beta-globin protein sequence</h3>"
   ]
  },
  {
   "cell_type": "code",
   "execution_count": 75,
   "metadata": {},
   "outputs": [
    {
     "name": "stdout",
     "output_type": "stream",
     "text": [
      "AUGGUGCAUCUGACUCCUGAGGAGAAGUCUGCCGUUACUGCCCUGUGGGGCAAGGUGAACGUGGAUGAAGUUGGUGGUGAGGCCCUGGGCAGGCUGCUGGUGGUCUACCCUUGGACCCAGAGGUUCUUUGAGUCCUUUGGGGAUCUGUCCACUCCUGAUGCUGUUAUGGGCAACCCUAAGGUGAAGGCUCAUGGCAAGAAAGUGCUCGGUGCCUUUAGUGAUGGCCUGGCUCACCUGGACAACCUCAAGGGCACCUUUGCCACACUGAGUGAGCUGCACUGUGACAAGCUGCACGUGGAUCCUGAGAACUUCAGGCUCCUGGGCAACGUGCUGGUCUGUGUGCUGGCCCAUCACUUUGGCAAAGAAUUCACCCCACCAGUGCAGGCUGCCUAUCAGAAAGUGGUGGCUGGUGUGGCUAAUGCCCUGGCCCACAAGUAUCACUAA\n",
      "----------\n",
      "MVHLTPEEKSAVTALWGKVNVDEVGGEALGRLLVVYPWTQRFFESFGDLSTPDAVMGNPKVKAHGKKVLGAFSDGLAHLDNLKGTFATLSELHCDKLHVDPENFRLLGNVLVCVLAHHFGKEFTPPVQAAYQKVVAGVANALAHKYH\n"
     ]
    }
   ],
   "source": [
    "seqGlobin = completeExon\n",
    "\n",
    "#transcribe the healthy globin sequence with the biopython function\n",
    "rnaGlobin = seqGlobin.transcribe()\n",
    "print(rnaGlobin)\n",
    "print('----------')\n",
    "\n",
    "#get the healthy globin protein sequence \n",
    "protGlobin = rnaGlobin.translate(to_stop=True)\n",
    "print(protGlobin)"
   ]
  },
  {
   "cell_type": "markdown",
   "metadata": {},
   "source": [
    "<h3 style=\"color:#4FBAF7; font-family:courier;\">3.8 Results</h3>"
   ]
  },
  {
   "cell_type": "code",
   "execution_count": 76,
   "metadata": {
    "scrolled": true
   },
   "outputs": [
    {
     "name": "stdout",
     "output_type": "stream",
     "text": [
      "ATGGTNCAYYTNACNCCNGTGGAGAAGTCYGCYGTNACNGCNCTNTGGGGYAAGGTNAAYGTGGATGAAGYYGGYGGYGAGGCCCTGGGCAGNCTGCTNGTGGTCTACCCTTGGACCCAGAGGTTCTTNGANTCNTTYGGGGATCTGNNNACNCCNGANGCAGTTATGGGCAACCCTAAGGTGAAGGCTCATGGCAAGAAAGTGCTCGGTGCCTTTAGTGATGGCCTGGCTCACCTGGACAACCTCAAGGGCACCTTTGCCACACTGAGTGAGCTGCACTGTGACAAGCTNCAYGTGGATCCTGAGAACTTCAGGCTNCTNGGCAACGTGYTNGTCTGYGTGCTGGCCCATCACTTTGGCAAAGAATTCACCCCACCAGTGCANGCNGCCTATCAGAAAGTGGTNGCTGGTGTNGCTAATGCCCTGGCCCACAAGTATCACTAAGCTNGCYTTYTTGYTGTCCAATTT\n",
      "----------\n",
      "ATGGTGCATCTGACTCCTGAGGAGAAGTCTGCCGTTACTGCCCTGTGGGGCAAGGTGAACGTGGATGAAGTTGGTGGTGAGGCCCTGGGCAGGCTGCTGGTGGTCTACCCTTGGACCCAGAGGTTCTTTGAGTCCTTTGGGGATCTGTCCACTCCTGATGCTGTTATGGGCAACCCTAAGGTGAAGGCTCATGGCAAGAAAGTGCTCGGTGCCTTTAGTGATGGCCTGGCTCACCTGGACAACCTCAAGGGCACCTTTGCCACACTGAGTGAGCTGCACTGTGACAAGCTGCACGTGGATCCTGAGAACTTCAGGCTCCTGGGCAACGTGCTGGTCTGTGTGCTGGCCCATCACTTTGGCAAAGAATTCACCCCACCAGTGCAGGCTGCCTATCAGAAAGTGGTGGCTGGTGTGGCTAATGCCCTGGCCCACAAGTATCACTAA\n"
     ]
    }
   ],
   "source": [
    "# compare the sickle cell DNA sequence with the healthy globin DNA sequence\n",
    "print(seqSickle)\n",
    "print('----------')\n",
    "print(seqGlobin)"
   ]
  },
  {
   "cell_type": "code",
   "execution_count": 77,
   "metadata": {},
   "outputs": [
    {
     "name": "stdout",
     "output_type": "stream",
     "text": [
      "MVHXTPVEKSAVTALWGKVNVDEXGGEALGXLLVVYPWTQRFXXSFGDLXTPXAVMGNPKVKAHGKKVLGAFSDGLAHLDNLKGTFATLSELHCDKLHVDPENFRLLGNVXVCVLAHHFGKEFTPPVXAAYQKVVAGVANALAHKYH\n",
      "----------\n",
      "MVHLTPEEKSAVTALWGKVNVDEVGGEALGRLLVVYPWTQRFFESFGDLSTPDAVMGNPKVKAHGKKVLGAFSDGLAHLDNLKGTFATLSELHCDKLHVDPENFRLLGNVLVCVLAHHFGKEFTPPVQAAYQKVVAGVANALAHKYH\n"
     ]
    }
   ],
   "source": [
    "#compare the sickle cell protein sequence with the healthy globin protein sequence\n",
    "print(protSickle)\n",
    "print('----------')\n",
    "print(protGlobin)"
   ]
  },
  {
   "cell_type": "markdown",
   "metadata": {},
   "source": [
    " <p style=\"color:#525F66; font-family:verdana; font-size:100%;\">Se puede observar una mutación en el aminoácido de la posición 7, ya que en la proteína de la célula con anemia se encuentra una Valina, mientras en la proteína de la célula sana se encuentra un Ácido glutámico.</p>"
   ]
  },
  {
   "cell_type": "markdown",
   "metadata": {},
   "source": [
    "<h3 style=\"color:#4FBAF7; font-family:courier;\">3.9 Optional Exercises</h3>\n",
    "<h4 style=\"color:#55D4ED; font-family:courier;\">3.9.1 What are the ‘N’ characters in the sickle cell globin cDNA? How did they affect the transcription/translation?</h4>"
   ]
  },
  {
   "cell_type": "markdown",
   "metadata": {},
   "source": [
    "<p style=\"color:#525F66; font-family:verdana; font-size:100%;\">Es una literal que puede tomar la identidad de cualquier base canónica.</p>\n",
    "\n",
    "<p style=\"color:#525F66; font-family:verdana; font-size:100%;\">En la transcripción genera bases con las letras N, mientras que en la traducción se van a generar aminoacidos incognitos</p>"
   ]
  },
  {
   "cell_type": "markdown",
   "metadata": {},
   "source": [
    "<h4 style=\"color:#55D4ED; font-family:courier;\">3.9.2 Check in the documentation how to read an alignment of multiple sequences using Biopython</h4>"
   ]
  },
  {
   "cell_type": "markdown",
   "metadata": {},
   "source": [
    "<p style=\"color:#525F66; font-family:verdana; font-size:100%;\">Esto se puede lograr con el modulo AlignIO, a continuación presentamos un ejemplo:</p>"
   ]
  },
  {
   "cell_type": "code",
   "execution_count": 78,
   "metadata": {},
   "outputs": [],
   "source": [
    "#from Bio import AlignIO\n",
    "\n",
    "#Read alignment with AlignIO module\n",
    "#alignment = AlignIO.read(open(\"PF09395_seed.sth\"), \"stockholm\")\n",
    "#print(\"Alignment length %i\" % alignment.get_alignment_length())\n",
    "\n",
    "#loop all alignments in the file\n",
    "#for record in alignment:\n",
    "    #print(record.seq + \" \" + record.id)"
   ]
  },
  {
   "cell_type": "markdown",
   "metadata": {},
   "source": [
    "<h4 style=\"color:#55D4ED; font-family:courier;\">3.9.3 Propose a PCR primer that specifically recognizes the sickle cell gene</h4>"
   ]
  },
  {
   "cell_type": "code",
   "execution_count": 79,
   "metadata": {},
   "outputs": [
    {
     "name": "stdout",
     "output_type": "stream",
     "text": [
      "El numero de apariciones de la secuencia ['CAYYTNACNCCNGTGGAG'] es 1\n",
      "CATCTGACTCCTGAGGAG\n",
      "-------\n",
      "CAYYTNACNCCNGTGGAG\n",
      "-------\n",
      "CTCCACNGGNGTNARRTG\n",
      "44.44444444444444\n"
     ]
    }
   ],
   "source": [
    "from Bio.SeqUtils import GC\n",
    "\n",
    "#get primers with the first 18 base pairs\n",
    "coincidence = re.findall(str(seqSickle[6:24]),str(seqSickle))\n",
    "\n",
    "#check that the primer is found only once in the sequence\n",
    "print(\"El numero de apariciones de la secuencia {} es {}\".format(coincidence,len(coincidence)))\n",
    "\n",
    "#get the primer reverse complement\n",
    "primer = seqSickle[6:24].reverse_complement()\n",
    "print(seqGlobin[6:24],end=\"\\n-------\\n\")\n",
    "print(seqSickle[6:24],end=\"\\n-------\\n\")\n",
    "print(primer)\n",
    "\n",
    "#check that the primer have an appropiate GC content\n",
    "print(GC(primer))\n"
   ]
  },
  {
   "cell_type": "markdown",
   "metadata": {},
   "source": [
    "<p style=\"color:#525F66; font-family:verdana; font-size:100%;\">Un primer requiere ser la reversa complementaria de la región donde se encuentra la mutación. Nuestro primer se encuentra una sola vez en la secuencia, tiene una longitud aceptada para el rango adecuado de 18-30 bases y su contenido de GC es óptimo ya que se encuentra entre un rango de 40%-60%.</p>"
   ]
  },
  {
   "cell_type": "markdown",
   "metadata": {},
   "source": [
    "<a id=\"Ejercicio_4\"></a>\n",
    "<h2 style=\"color:#5390E0; font-family:courier; background-color:#CCECFF;\">4. Pattern Matching</h2>\n",
    "<h3 style=\"color:#4FBAF7; font-family:courier;\">4.1 Familiarize with Regular Expressions</h3>"
   ]
  },
  {
   "attachments": {
    "Screenshot%202020-12-22%20at%2019.24.14.png": {
     "image/png": "[encoded data removed]"
    }
   },
   "cell_type": "markdown",
   "metadata": {},
   "source": [
    "![Screenshot%202020-12-22%20at%2019.24.14.png](attachment:Screenshot%202020-12-22%20at%2019.24.14.png)"
   ]
  },
  {
   "attachments": {
    "Screenshot%202020-12-22%20at%2019.25.29.png": {
     "image/png": "[encoded data removed]"
    }
   },
   "cell_type": "markdown",
   "metadata": {},
   "source": [
    "![Screenshot%202020-12-22%20at%2019.25.29.png](attachment:Screenshot%202020-12-22%20at%2019.25.29.png)"
   ]
  },
  {
   "attachments": {
    "Screenshot%202020-12-22%20at%2019.29.21.png": {
     "image/png": "[encoded data removed]"
    }
   },
   "cell_type": "markdown",
   "metadata": {},
   "source": [
    "![Screenshot%202020-12-22%20at%2019.29.21.png](attachment:Screenshot%202020-12-22%20at%2019.29.21.png)"
   ]
  },
  {
   "attachments": {
    "Screenshot%202020-12-22%20at%2019.30.15.png": {
     "image/png": "[encoded data removed]"
    }
   },
   "cell_type": "markdown",
   "metadata": {},
   "source": [
    "![Screenshot%202020-12-22%20at%2019.30.15.png](attachment:Screenshot%202020-12-22%20at%2019.30.15.png)"
   ]
  },
  {
   "attachments": {
    "Screenshot%202020-12-22%20at%2019.30.38.png": {
     "image/png": "[encoded data removed]"
    }
   },
   "cell_type": "markdown",
   "metadata": {},
   "source": [
    "![Screenshot%202020-12-22%20at%2019.30.38.png](attachment:Screenshot%202020-12-22%20at%2019.30.38.png)"
   ]
  },
  {
   "cell_type": "markdown",
   "metadata": {},
   "source": [
    "<h3 style=\"color:#4FBAF7; font-family:courier;\">4.2 Search for a start codon</h3>"
   ]
  },
  {
   "cell_type": "code",
   "execution_count": 80,
   "metadata": {},
   "outputs": [
    {
     "name": "stdout",
     "output_type": "stream",
     "text": [
      "0 - 2\n"
     ]
    }
   ],
   "source": [
    "#search start codon in sequence with regular expressions\n",
    "match = re.search('ATG', str(seqGlobin))\n",
    "if match:\n",
    "    print(match.start(),'-', match.end()-1)"
   ]
  },
  {
   "cell_type": "markdown",
   "metadata": {},
   "source": [
    "<h3 style=\"color:#4FBAF7; font-family:courier;\">4.3 Search for a restriction site</h3>"
   ]
  },
  {
   "cell_type": "code",
   "execution_count": 81,
   "metadata": {},
   "outputs": [
    {
     "name": "stdout",
     "output_type": "stream",
     "text": [
      "Cortes en sano\n",
      "14-21: TCCTGAG\n",
      "173-180: CCCTAAG\n",
      "262-269: CACTGAG\n",
      "299-306: TCCTGAG\n",
      "\n",
      "Cortes en enfermo\n",
      "173-180: CCCTAAG\n",
      "262-269: CACTGAG\n",
      "299-306: TCCTGAG\n",
      "438-445: CACTAAG\n"
     ]
    }
   ],
   "source": [
    "def CutDNA(restEnz, seq):\n",
    "    #loop through all restriction sites in sequence\n",
    "    for m in re.finditer(restEnz, str(seq)):\n",
    "        #print the positions and remaining fragment after cut\n",
    "        print('%02d-%02d: %s' % (m.start(), m.end(), m.group(0)))\n",
    "\n",
    "#compile the regex of the restriction site\n",
    "Ddel = re.compile('[ATGC]{2}CT[ATGC]AG')\n",
    "\n",
    "#get cuts in healthy globin\n",
    "print('Cortes en sano')\n",
    "CutDNA(Ddel, str(seqGlobin))\n",
    "\n",
    "#get cuts in sickle cell anemia globin\n",
    "print('\\nCortes en enfermo')\n",
    "CutDNA(Ddel, str(seqSickle))\n",
    "\n"
   ]
  },
  {
   "cell_type": "markdown",
   "metadata": {},
   "source": [
    "<h3 style=\"color:#4FBAF7; font-family:courier;\">4.4 Try more restriction enzymes</h3>"
   ]
  },
  {
   "cell_type": "code",
   "execution_count": 82,
   "metadata": {},
   "outputs": [],
   "source": [
    "#for more restriction sites we use a dictionary with enzymes as keys and restriction site regex as values\n",
    "reDb = {'Ddel': re.compile('[ATGC]{2}CT[ATGC]AG'),\n",
    "        'HinfI': re.compile('GT[ATGC]{2}AC'),\n",
    "        'BceAI': re.compile('ACGGC[ATGC]{13}'),\n",
    "        'BseRI': re.compile('GAGGAG[ATGC]{10}'),\n",
    "        'EcoRI': re.compile('GAATTC'),\n",
    "        'MstII': re.compile('CCT[ATGC]{1}AGG')}"
   ]
  },
  {
   "cell_type": "code",
   "execution_count": 83,
   "metadata": {},
   "outputs": [
    {
     "name": "stdout",
     "output_type": "stream",
     "text": [
      "Ddel\n",
      "Cortes en sano\n",
      "14-21: TCCTGAG\n",
      "173-180: CCCTAAG\n",
      "262-269: CACTGAG\n",
      "299-306: TCCTGAG\n",
      "\n",
      "Cortes en enfermo\n",
      "173-180: CCCTAAG\n",
      "262-269: CACTGAG\n",
      "299-306: TCCTGAG\n",
      "438-445: CACTAAG\n",
      "------------\n",
      "\n",
      "HinfI\n",
      "Cortes en sano\n",
      "54-60: GTGAAC\n",
      "102-108: GTCTAC\n",
      "146-152: GTCCAC\n",
      "\n",
      "Cortes en enfermo\n",
      "102-108: GTCTAC\n",
      "------------\n",
      "\n",
      "BceAI\n",
      "Cortes en sano\n",
      "\n",
      "Cortes en enfermo\n",
      "------------\n",
      "\n",
      "BseRI\n",
      "Cortes en sano\n",
      "18-34: GAGGAGAAGTCTGCCG\n",
      "\n",
      "Cortes en enfermo\n",
      "------------\n",
      "\n",
      "EcoRI\n",
      "Cortes en sano\n",
      "363-369: GAATTC\n",
      "\n",
      "Cortes en enfermo\n",
      "363-369: GAATTC\n",
      "------------\n",
      "\n",
      "MstII\n",
      "Cortes en sano\n",
      "15-22: CCTGAGG\n",
      "174-181: CCTAAGG\n",
      "\n",
      "Cortes en enfermo\n",
      "174-181: CCTAAGG\n",
      "------------\n",
      "\n"
     ]
    }
   ],
   "source": [
    "#loop through dictionary keys\n",
    "for enzyme in reDb:\n",
    "    print(enzyme)\n",
    "    \n",
    "    #do the cut for each enzyme\n",
    "    print('Cortes en sano')\n",
    "    CutDNA(reDb[enzyme], str(seqGlobin))\n",
    "\n",
    "    print('\\nCortes en enfermo')\n",
    "    CutDNA(reDb[enzyme], str(seqSickle))\n",
    "    print('------------\\n')"
   ]
  },
  {
   "cell_type": "markdown",
   "metadata": {},
   "source": [
    "<p style=\"color:#525F66; font-family:verdana; font-size:100%;\">La enzima de restricción que usariamos es BseRI porque identifica un patron únicamente en el cDNA de beta-globina en individuos sanos. </p>\n",
    "\n",
    "<p style=\"color:#525F66; font-family:verdana; font-size:100%;\">Por lo tanto para identificar un individuos enfermo a partir del ensayo de electroforésis y haciendo uso de la enzima BseRI, sólo observaríamos una banda en el cDNA de la sickle cell.</p>"
   ]
  },
  {
   "cell_type": "markdown",
   "metadata": {},
   "source": [
    "<h3 style=\"color:#4FBAF7; font-family:courier;\">4.5 Replace missing characters</h3>"
   ]
  },
  {
   "cell_type": "code",
   "execution_count": 84,
   "metadata": {
    "scrolled": true
   },
   "outputs": [
    {
     "name": "stdout",
     "output_type": "stream",
     "text": [
      "ATGGTGCAYYTGACTCCTGTGGAGAAGTCYGCYGTTACTGCCCTGTGGGGYAAGGTGAAYGTGGATGAAGYYGGYGGYGAGGCCCTGGGCAGGCTGCTGGTGGTCTACCCTTGGACCCAGAGGTTCTTTGAGTCCTTYGGGGATCTGTCCACTCCTGATGCAGTTATGGGCAACCCTAAGGTGAAGGCTCATGGCAAGAAAGTGCTCGGTGCCTTTAGTGATGGCCTGGCTCACCTGGACAACCTCAAGGGCACCTTTGCCACACTGAGTGAGCTGCACTGTGACAAGCTGCAYGTGGATCCTGAGAACTTCAGGCTCCTGGGCAACGTGYTGGTCTGYGTGCTGGCCCATCACTTTGGCAAAGAATTCACCCCACCAGTGCAGGCTGCCTATCAGAAAGTGGTGGCTGGTGTGGCTAATGCCCTGGCCCACAAGTATCACTAA\n"
     ]
    }
   ],
   "source": [
    "#initialize an empty string\n",
    "cleanSickleSeq = ''\n",
    "\n",
    "#get the sequence index\n",
    "for i in range(0, len(seqGlobin)):\n",
    "    #get N positions \n",
    "    if seqSickle[i] == 'N':\n",
    "        #replace N's in sickle cell sequence with healthy globin sequence positions\n",
    "        cleanSickleSeq += seqGlobin[i]\n",
    "    else:\n",
    "        cleanSickleSeq += seqSickle[i]\n",
    "\n",
    "#print the results\n",
    "print(cleanSickleSeq)"
   ]
  }
 ],
 "metadata": {
  "kernelspec": {
   "display_name": "Python 3",
   "language": "python",
   "name": "python3"
  },
  "language_info": {
   "codemirror_mode": {
    "name": "ipython",
    "version": 3
   },
   "file_extension": ".py",
   "mimetype": "text/x-python",
   "name": "python",
   "nbconvert_exporter": "python",
   "pygments_lexer": "ipython3",
   "version": "3.8.5"
  }
 },
 "nbformat": 4,
 "nbformat_minor": 4
}
